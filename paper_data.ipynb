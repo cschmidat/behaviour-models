{
 "cells": [
  {
   "cell_type": "code",
   "execution_count": 1,
   "id": "b508bbf4-a3f9-43e8-878f-6cdceee3874a",
   "metadata": {
    "execution": {
     "iopub.execute_input": "2022-12-14T08:34:10.572429Z",
     "iopub.status.busy": "2022-12-14T08:34:10.571985Z",
     "iopub.status.idle": "2022-12-14T08:34:12.580092Z",
     "shell.execute_reply": "2022-12-14T08:34:12.578911Z",
     "shell.execute_reply.started": "2022-12-14T08:34:10.572311Z"
    },
    "tags": []
   },
   "outputs": [],
   "source": [
    "# Numerics\n",
    "import numpy as np\n",
    "import jax\n",
    "import jax.numpy as jnp\n",
    "\n",
    "# Functional\n",
    "from typing import List, Callable\n",
    "from functools import partial\n",
    "\n",
    "# Own\n",
    "from data_gen_x import gen_data_x\n",
    "from models import *"
   ]
  },
  {
   "cell_type": "markdown",
   "id": "7654c797-7552-4db8-a586-2006c44ad988",
   "metadata": {},
   "source": [
    "## Functions"
   ]
  },
  {
   "cell_type": "code",
   "execution_count": 2,
   "id": "17de060d-b044-47bd-8b2d-94af8219f9d1",
   "metadata": {
    "execution": {
     "iopub.execute_input": "2022-12-14T08:34:12.709328Z",
     "iopub.status.busy": "2022-12-14T08:34:12.709119Z",
     "iopub.status.idle": "2022-12-14T08:34:12.717763Z",
     "shell.execute_reply": "2022-12-14T08:34:12.717210Z",
     "shell.execute_reply.started": "2022-12-14T08:34:12.709302Z"
    },
    "tags": []
   },
   "outputs": [],
   "source": [
    "def simulation(\n",
    "    seed: int,\n",
    "    num_it: int = 2000,\n",
    "    cond: Callable = an_cond,\n",
    "    lr_sgd: float = 1e-2,\n",
    "    lr_hebb: float = 4e-3,\n",
    "    lam_sgd: float = 1e-3,\n",
    "    lam_hebb: float = 1e-1\n",
    "):\n",
    "    \"\"\"\n",
    "    Prepare test and validation data and run simulation for one-layer model.\n",
    "    :param seed: Random PRNG seed\n",
    "    :param num_it: Number of iterations to run\n",
    "    :param cond: Function specifying if iteration i is an active or only passive trial.\n",
    "    :param lr_sgd: SGD learning rate for v\n",
    "    :param lr_hebb: Hebbian learning rate for v\n",
    "    :param lam_sgd: SGD weight decay for v\n",
    "    :param lam_hebb: Hebbian weight decay for v\n",
    "    \"\"\"\n",
    "    jax_key = jax.random.PRNGKey(seed)\n",
    "\n",
    "    # Prepare means of point clouds\n",
    "    data_means = parclass_v().means \n",
    "\n",
    "    X_train, y_train, _ = gen_data_x(\n",
    "        jax_key, 1000, 50, 2, parclass_wv().sigs, data_means, vec=True\n",
    "    )\n",
    "\n",
    "    jax_key, subkey1, subkey2 = jax.random.split(jax_key, 3)\n",
    "    X_val, y_val, _ = gen_data_x(\n",
    "        subkey1, 1000, 50, 2, parclass_wv().sigs, data_means, vec=True\n",
    "    )\n",
    "\n",
    "    sim_pars = parclass_v(\n",
    "        lr_sgd_v=lr_sgd, lr_hebb_v=lr_hebb, lam_sgd_v=lam_sgd, lam_hebb_v=lam_hebb\n",
    "    )\n",
    "    sim_pars.means = data_means\n",
    "\n",
    "    test_single = OneLayer(subkey2, pars=sim_pars)\n",
    "    test_single.run_scheme(cond, X_train, y_train, X_val, y_val, num_it)\n",
    "    return test_single.metrics"
   ]
  },
  {
   "cell_type": "code",
   "execution_count": 3,
   "id": "14090a94-4ff3-4901-afbd-421b9483fc19",
   "metadata": {
    "execution": {
     "iopub.execute_input": "2022-12-14T08:34:12.719354Z",
     "iopub.status.busy": "2022-12-14T08:34:12.719144Z",
     "iopub.status.idle": "2022-12-14T08:34:12.728841Z",
     "shell.execute_reply": "2022-12-14T08:34:12.727901Z",
     "shell.execute_reply.started": "2022-12-14T08:34:12.719329Z"
    },
    "tags": []
   },
   "outputs": [],
   "source": [
    "def simulation_double_wrongpc(\n",
    "    seed: int,\n",
    "    num_it: int = 2000,\n",
    "    cond: Callable = an_cond,\n",
    "    lr_sgd_v: float = 0,\n",
    "    lr_hebb_v: float = 1e-4,\n",
    "    lr_sgd_w: float = 1e-3,\n",
    "    lr_fsm_w: float = 2e-3,\n",
    "    lam_sgd_v: float = 5e-2,\n",
    "    lam_hebb_v: float = 1,\n",
    "    lam_sgd_w: float = 1e-3,\n",
    "    lam_fsm_w: float = 1,\n",
    "    hebb_w: bool = False,\n",
    "):\n",
    "    \"\"\"\n",
    "    Prepare test and validation data and run simulation for non-isotropic two-layer model.\n",
    "    :param seed: Random PRNG seed\n",
    "    :param num_it: Number of iterations to run\n",
    "    :param cond: Function specifying if iteration i is an active or only passive trial.\n",
    "    :param lr_sgd_v: SGD learning rate for v\n",
    "    :param lr_hebb_v: Hebbian learning rate for v\n",
    "    :param lr_sgd_w: SGD learning rate for W\n",
    "    :param lr_fsm_w: FSM/Hebbian learning rate for W\n",
    "    :param lam_sgd_v: SGD weight decay for v\n",
    "    :param lam_hebb_v: Hebbian weight decay for v\n",
    "    :param lam_sgd_w: SGD weight decay for W\n",
    "    :param lam_hebb_w: Hebbian weight decay for W\n",
    "    :param hebb_w: If True, use Hebbian learning for W, otherwise FSM\n",
    "    \"\"\"\n",
    "    jax_key = jax.random.PRNGKey(seed)\n",
    "\n",
    "    # Prepare means of point clouds\n",
    "\n",
    "    data_means = 1.5*parclass_wv().means \n",
    "    sigs = pancake_sigs([1,1], 50, 8)\n",
    "    X_train, y_train, _ = gen_data_x(\n",
    "        jax_key, 1000, 50, 2, sigs, data_means, vec=True\n",
    "    )\n",
    "    jax_key, subkey1, subkey2 = jax.random.split(jax_key, 3)\n",
    "    X_val, y_val, _ = gen_data_x(\n",
    "        subkey1, 1000, 50, 2, sigs, data_means, vec=True\n",
    "    )\n",
    "\n",
    "    sim_pars = parclass_wv(\n",
    "        lam_fsm_w=lam_fsm_w,\n",
    "        lam_sgd_w=lam_sgd_w,\n",
    "        lam_hebb_v=lam_hebb_v,\n",
    "        lam_sgd_v=lam_sgd_v,\n",
    "        lr_hebb_v=lr_hebb_v,\n",
    "        lr_fsm_w=lr_fsm_w,\n",
    "        lr_sgd_w=lr_sgd_w,\n",
    "        lr_sgd_v=lr_sgd_v,\n",
    "        hebb_w=hebb_w,\n",
    "        lr_sgd_v_decay=0,\n",
    "    )\n",
    "    sim_pars.means = data_means\n",
    "    sim_pars.sigs = sigs\n",
    "    \n",
    "    test_double = TwoLayer(subkey2, pars=sim_pars)\n",
    "    test_double.run_scheme(cond, X_train, y_train, X_val, y_val, num_it)\n",
    "    return test_double.metrics"
   ]
  },
  {
   "cell_type": "code",
   "execution_count": 4,
   "id": "f5912cc3-d0ce-43eb-a608-c3b92c3913fb",
   "metadata": {
    "execution": {
     "iopub.execute_input": "2022-12-14T08:34:12.730089Z",
     "iopub.status.busy": "2022-12-14T08:34:12.729881Z",
     "iopub.status.idle": "2022-12-14T08:34:12.741122Z",
     "shell.execute_reply": "2022-12-14T08:34:12.740164Z",
     "shell.execute_reply.started": "2022-12-14T08:34:12.730063Z"
    },
    "tags": []
   },
   "outputs": [],
   "source": [
    "def simulation_double(\n",
    "    seed: int,\n",
    "    num_it: int = 2000,\n",
    "    cond: Callable = an_cond,\n",
    "    lr_sgd_v: float = 0,\n",
    "    lr_hebb_v: float = 1e-4,\n",
    "    lr_sgd_w: float = 1e-3,\n",
    "    lr_fsm_w: float = 2e-3,\n",
    "    lam_sgd_v: float = 5e-2,\n",
    "    lam_hebb_v: float = 1,\n",
    "    lam_sgd_w: float = 1e-3,\n",
    "    lam_fsm_w: float = 1,\n",
    "    hebb_w: bool = False,\n",
    "):\n",
    "    \"\"\"\n",
    "    Prepare test and validation data and run simulation for two-layer model with isotropic input.\n",
    "    :param seed: Random PRNG seed\n",
    "    :param num_it: Number of iterations to run\n",
    "    :param cond: Function specifying if iteration i is an active or only passive trial.\n",
    "    :param lr_sgd_v: SGD learning rate for v\n",
    "    :param lr_hebb_v: Hebbian learning rate for v\n",
    "    :param lr_sgd_w: SGD learning rate for W\n",
    "    :param lr_fsm_w: FSM/Hebbian learning rate for W\n",
    "    :param lam_sgd_v: SGD weight decay for v\n",
    "    :param lam_hebb_v: Hebbian weight decay for v\n",
    "    :param lam_sgd_w: SGD weight decay for W\n",
    "    :param lam_hebb_w: Hebbian weight decay for W\n",
    "    :param hebb_w: If True, use Hebbian learning for W, otherwise FSM\n",
    "    \"\"\"\n",
    "    jax_key = jax.random.PRNGKey(seed)\n",
    "\n",
    "    # Prepare means of point clouds\n",
    "\n",
    "    data_means = 1*parclass_wv().means \n",
    "    sigs = pancake_sigs([1,1], 50, 1)\n",
    "    X_train, y_train, _ = gen_data_x(\n",
    "        jax_key, 1000, 50, 2, sigs, data_means, vec=True\n",
    "    )\n",
    "    jax_key, subkey1, subkey2 = jax.random.split(jax_key, 3)\n",
    "    X_val, y_val, _ = gen_data_x(\n",
    "        subkey1, 1000, 50, 2, sigs, data_means, vec=True\n",
    "    )\n",
    "\n",
    "    sim_pars = parclass_wv(\n",
    "        lam_fsm_w=lam_fsm_w,\n",
    "        lam_sgd_w=lam_sgd_w,\n",
    "        lam_hebb_v=lam_hebb_v,\n",
    "        lam_sgd_v=lam_sgd_v,\n",
    "        lr_hebb_v=lr_hebb_v,\n",
    "        lr_fsm_w=lr_fsm_w,\n",
    "        lr_sgd_w=lr_sgd_w,\n",
    "        lr_sgd_v=lr_sgd_v,\n",
    "        hebb_w=hebb_w,\n",
    "        lr_sgd_v_decay=0,\n",
    "    )\n",
    "    sim_pars.means = data_means\n",
    "    sim_pars.sigs = sigs\n",
    "    \n",
    "    test_double = TwoLayer(subkey2, pars=sim_pars)\n",
    "    test_double.run_scheme(cond, X_train, y_train, X_val, y_val, num_it)\n",
    "    return test_double.metrics"
   ]
  },
  {
   "cell_type": "code",
   "execution_count": 5,
   "id": "f2907587-c4ba-4181-8a8d-ab5917465099",
   "metadata": {
    "execution": {
     "iopub.execute_input": "2022-12-14T08:34:13.023665Z",
     "iopub.status.busy": "2022-12-14T08:34:13.023300Z",
     "iopub.status.idle": "2022-12-14T08:34:13.038933Z",
     "shell.execute_reply": "2022-12-14T08:34:13.037981Z",
     "shell.execute_reply.started": "2022-12-14T08:34:13.023622Z"
    },
    "tags": []
   },
   "outputs": [],
   "source": [
    "def simulation_double_fsm(\n",
    "    seed: int,\n",
    "    num_it: int = 2000,\n",
    "    cond: Callable = an_cond,\n",
    "    lr_sgd_v: float = 0,\n",
    "    lr_hebb_v: float = 1e-4,\n",
    "    lr_sgd_w: float = 1e-3,\n",
    "    lr_fsm_w: float = 2e-3,\n",
    "    lam_fsm_w = 4e-0,\n",
    "    lam_sgd_w = 1e-3,\n",
    "    hebb_w: bool = False,\n",
    "):\n",
    "    \"\"\"\n",
    "    Prepare test and validation data and run simulation for two-layer model with non-aligned input.\n",
    "    :param seed: Random PRNG seed\n",
    "    :param num_it: Number of iterations to run\n",
    "    :param cond: Function specifying if iteration i is an active or only passive trial.\n",
    "    :param lr_sgd_v: SGD learning rate for v\n",
    "    :param lr_hebb_v: Hebbian learning rate for v\n",
    "    :param lr_sgd_w: SGD learning rate for W\n",
    "    :param lr_fsm_w: FSM/Hebbian learning rate for W\n",
    "    :param lam_sgd_w: SGD weight decay for W\n",
    "    :param lam_hebb_w: Hebbian weight decay for W\n",
    "    :param hebb_w: If True, use Hebbian learning for W, otherwise FSM\n",
    "    \"\"\"\n",
    "    jax_key = jax.random.PRNGKey(seed)\n",
    "\n",
    "    # Prepare means of point cloud\n",
    "    O = jnp.eye(100)\n",
    "    Sig_diag = jnp.diag(jnp.array([2] * 20 + 80 * [1]))\n",
    "    mean_dir = 1 / jnp.sqrt(30) * O[:, 0:30].sum(axis=1)\n",
    "    data_means = 1.5*jnp.array([-mean_dir, mean_dir])\n",
    "    Sig = O @ Sig_diag @ O.T\n",
    "\n",
    "    X_train, y_train, _ = gen_data_x(\n",
    "        jax_key, 1000, 100, 2, jnp.array([Sig, Sig]), data_means, vec=True\n",
    "    )\n",
    "    jax_key, subkey1, subkey2 = jax.random.split(jax_key, 3)\n",
    "    X_val, y_val, _ = gen_data_x(\n",
    "        subkey1, 1000, 100, 2, jnp.array([Sig, Sig]), data_means, vec=True\n",
    "    )\n",
    "\n",
    "    sim_pars = parclass_wv(\n",
    "        lam_fsm_w=lam_fsm_w,\n",
    "        lam_sgd_w=lam_sgd_w,\n",
    "        lam_hebb_v=1,\n",
    "        lam_sgd_v=5e-2,\n",
    "        lr_hebb_v=lr_hebb_v,\n",
    "        lr_fsm_w=lr_fsm_w,\n",
    "        lr_sgd_w=lr_sgd_w,\n",
    "        lr_sgd_v=lr_sgd_v,\n",
    "        hebb_w=hebb_w,\n",
    "        lr_sgd_v_decay=0,\n",
    "    )\n",
    "    sim_pars.means = data_means\n",
    "    sim_pars.sigs = jnp.array([Sig, Sig])\n",
    "    sim_pars.dim, sim_pars.dim_hid = 100, 20\n",
    "    test_double = TwoLayer(subkey2, pars=sim_pars)\n",
    "    test_double.run_scheme(cond, X_train, y_train, X_val, y_val, num_it)\n",
    "    return test_double.metrics"
   ]
  },
  {
   "cell_type": "code",
   "execution_count": 6,
   "id": "872a3e0c-a089-4b36-a891-7bd7c3e7fc22",
   "metadata": {
    "execution": {
     "iopub.execute_input": "2022-12-14T08:34:14.182982Z",
     "iopub.status.busy": "2022-12-14T08:34:14.182588Z",
     "iopub.status.idle": "2022-12-14T08:34:14.190330Z",
     "shell.execute_reply": "2022-12-14T08:34:14.189153Z",
     "shell.execute_reply.started": "2022-12-14T08:34:14.182935Z"
    },
    "tags": []
   },
   "outputs": [],
   "source": [
    "def save_to_file(an_accs: jnp.ndarray, ap_accs: jnp.ndarray, pta_accs: jnp.ndarray, filename: str):\n",
    "    \"\"\"\n",
    "    Save input arrays to compressed numpy file.\n",
    "    \"\"\"\n",
    "    np.savez_compressed(filename, an=np.array(an_accs), ap=np.array(ap_accs), pta=np.array(pta_accs))"
   ]
  },
  {
   "cell_type": "markdown",
   "id": "1554fbec-1a83-456d-a755-f29edb6ee04f",
   "metadata": {},
   "source": [
    "## Model 1"
   ]
  },
  {
   "cell_type": "code",
   "execution_count": 7,
   "id": "0be61932-52e1-401c-99f1-6425cf26cfef",
   "metadata": {
    "execution": {
     "iopub.execute_input": "2022-12-14T08:34:15.457697Z",
     "iopub.status.busy": "2022-12-14T08:34:15.457326Z",
     "iopub.status.idle": "2022-12-14T08:34:25.545575Z",
     "shell.execute_reply": "2022-12-14T08:34:25.544419Z",
     "shell.execute_reply.started": "2022-12-14T08:34:15.457651Z"
    },
    "tags": []
   },
   "outputs": [
    {
     "name": "stdout",
     "output_type": "stream",
     "text": [
      "(5000,)\n"
     ]
    }
   ],
   "source": [
    "an_onel = jax.vmap(lambda seed: simulation(seed, cond=an_cond, num_it=5000, lr_sgd=2e-4, lr_hebb=1e-4, lam_sgd=5e-2, lam_hebb=2.4))(\n",
    "    jnp.arange(50)\n",
    ")"
   ]
  },
  {
   "cell_type": "code",
   "execution_count": 8,
   "id": "adfb13c8-345a-4ac9-90a1-16c8ac92ac43",
   "metadata": {
    "execution": {
     "iopub.execute_input": "2022-12-14T08:34:25.557338Z",
     "iopub.status.busy": "2022-12-14T08:34:25.557145Z",
     "iopub.status.idle": "2022-12-14T08:34:49.222604Z",
     "shell.execute_reply": "2022-12-14T08:34:49.221116Z",
     "shell.execute_reply.started": "2022-12-14T08:34:25.557315Z"
    },
    "tags": []
   },
   "outputs": [
    {
     "name": "stdout",
     "output_type": "stream",
     "text": [
      "(50000,)\n"
     ]
    }
   ],
   "source": [
    "ap_onel = jax.vmap(lambda seed: simulation(seed, cond=ap_cond, num_it=50_000, lr_sgd=2e-4, lr_hebb=1e-4, lam_sgd=5e-2, lam_hebb=2.4))(\n",
    "    jnp.arange(50)\n",
    ")"
   ]
  },
  {
   "cell_type": "code",
   "execution_count": 9,
   "id": "41395de3-1ca1-43c7-bdfc-daa1367246c2",
   "metadata": {
    "execution": {
     "iopub.execute_input": "2022-12-14T08:35:06.245804Z",
     "iopub.status.busy": "2022-12-14T08:35:06.245395Z",
     "iopub.status.idle": "2022-12-14T08:35:28.128116Z",
     "shell.execute_reply": "2022-12-14T08:35:28.127097Z",
     "shell.execute_reply.started": "2022-12-14T08:35:06.245753Z"
    }
   },
   "outputs": [
    {
     "name": "stdout",
     "output_type": "stream",
     "text": [
      "(50000,)\n"
     ]
    }
   ],
   "source": [
    "pta_onel = jax.vmap(lambda seed: simulation(seed, cond=pta_cond, num_it=50_000, lr_sgd=2e-4, lr_hebb=1e-4, lam_sgd=5e-2, lam_hebb=2.4))(\n",
    "    jnp.arange(50)\n",
    ")"
   ]
  },
  {
   "cell_type": "code",
   "execution_count": 10,
   "id": "e96af75e-fc7f-4601-a0e3-42499fa99a76",
   "metadata": {
    "execution": {
     "iopub.execute_input": "2022-12-14T08:35:32.733617Z",
     "iopub.status.busy": "2022-12-14T08:35:32.733117Z",
     "iopub.status.idle": "2022-12-14T08:35:33.048428Z",
     "shell.execute_reply": "2022-12-14T08:35:33.047468Z",
     "shell.execute_reply.started": "2022-12-14T08:35:32.733567Z"
    }
   },
   "outputs": [],
   "source": [
    "save_to_file(an_onel[1][0], ap_onel[1][0], pta_onel[1][0], \"sim_data/onel.npz\")"
   ]
  },
  {
   "cell_type": "markdown",
   "id": "d1dac314-a11d-4f76-a334-d390d04bf92e",
   "metadata": {},
   "source": [
    "## Model 2"
   ]
  },
  {
   "cell_type": "code",
   "execution_count": 11,
   "id": "42ba6634-e522-4007-b52b-13900008a967",
   "metadata": {
    "execution": {
     "iopub.execute_input": "2022-12-14T08:37:58.616502Z",
     "iopub.status.busy": "2022-12-14T08:37:58.616076Z",
     "iopub.status.idle": "2022-12-14T08:38:09.521797Z",
     "shell.execute_reply": "2022-12-14T08:38:09.521020Z",
     "shell.execute_reply.started": "2022-12-14T08:37:58.616443Z"
    }
   },
   "outputs": [
    {
     "name": "stdout",
     "output_type": "stream",
     "text": [
      "(5000,)\n"
     ]
    }
   ],
   "source": [
    "an_doublel_sw = jax.vmap(lambda seed: simulation_double(seed, cond=an_cond, num_it=5000, lr_sgd_v=0, lr_hebb_v=5e-2, lr_sgd_w=1e-3, lr_fsm_w=0e-2, hebb_w=True))(jnp.arange(50))"
   ]
  },
  {
   "cell_type": "code",
   "execution_count": 12,
   "id": "a3f80a35-22a2-431c-823d-1fe174f1ded3",
   "metadata": {
    "execution": {
     "iopub.execute_input": "2022-12-14T08:38:12.813689Z",
     "iopub.status.busy": "2022-12-14T08:38:12.813190Z",
     "iopub.status.idle": "2022-12-14T08:39:05.013951Z",
     "shell.execute_reply": "2022-12-14T08:39:05.012872Z",
     "shell.execute_reply.started": "2022-12-14T08:38:12.813640Z"
    }
   },
   "outputs": [
    {
     "name": "stdout",
     "output_type": "stream",
     "text": [
      "(50000,)\n"
     ]
    }
   ],
   "source": [
    "ap_doublel_sw = jax.vmap(lambda seed: simulation_double(seed, cond=ap_cond, num_it=50000, lr_sgd_v=0, lr_hebb_v=5e-2, lr_sgd_w=1e-3, lr_fsm_w=0e-2, hebb_w=True))(jnp.arange(50))"
   ]
  },
  {
   "cell_type": "code",
   "execution_count": 13,
   "id": "d360254f-e294-45bc-9cc9-df4146d16fd4",
   "metadata": {
    "execution": {
     "iopub.execute_input": "2022-12-14T08:39:05.045478Z",
     "iopub.status.busy": "2022-12-14T08:39:05.045288Z",
     "iopub.status.idle": "2022-12-14T08:39:57.961079Z",
     "shell.execute_reply": "2022-12-14T08:39:57.960338Z",
     "shell.execute_reply.started": "2022-12-14T08:39:05.045453Z"
    }
   },
   "outputs": [
    {
     "name": "stdout",
     "output_type": "stream",
     "text": [
      "(50000,)\n"
     ]
    }
   ],
   "source": [
    "pta_doublel_sw = jax.vmap(lambda seed: simulation_double(seed, cond=pta_cond, num_it=50000, lr_sgd_v=0, lr_hebb_v=5e-2, lr_sgd_w=1e-3, lr_fsm_w=0e-2, hebb_w=True))(jnp.arange(50))"
   ]
  },
  {
   "cell_type": "code",
   "execution_count": null,
   "id": "baf26616-4a06-4c86-bea6-e6f8c69f362c",
   "metadata": {},
   "outputs": [],
   "source": [
    "save_to_file(an_doublel_sw[1][0], ap_doublel_sw[1][0], pta_doublel_sw[1][0], \"sim_data/doublel_sw.npz\")"
   ]
  },
  {
   "cell_type": "markdown",
   "id": "35279378-dc0f-4861-b911-4d298d8e599b",
   "metadata": {},
   "source": [
    "## Model 3 (isotropic)"
   ]
  },
  {
   "cell_type": "code",
   "execution_count": null,
   "id": "8ae0dfb4-b60c-4756-9436-80e39aec9ec2",
   "metadata": {},
   "outputs": [],
   "source": [
    "an_doublel_sv = jax.vmap(\n",
    "    lambda x: simulation_double(\n",
    "        x,\n",
    "        cond=an_cond,\n",
    "        num_it=5000,\n",
    "        lr_sgd_v=1e-2,\n",
    "        lr_hebb_v=0e-4,\n",
    "        lr_sgd_w=0,\n",
    "        lr_fsm_w=2e-5,\n",
    "        lam_sgd_v = 2e-2,\n",
    "        lam_hebb_v=1,\n",
    "        hebb_w=True,\n",
    "    )\n",
    ")(jnp.arange(50))"
   ]
  },
  {
   "cell_type": "code",
   "execution_count": null,
   "id": "7f81a4c4-b84a-4ceb-87b9-6d50bd43b7c2",
   "metadata": {},
   "outputs": [],
   "source": [
    "ap_doublel_sv = jax.vmap(\n",
    "    lambda x: simulation_double(\n",
    "        x,\n",
    "        cond=ap_cond,\n",
    "        num_it=50_000,\n",
    "        lr_sgd_v=1e-2,\n",
    "        lr_hebb_v=0e-4,\n",
    "        lr_sgd_w=0,\n",
    "        lr_fsm_w=2e-5,\n",
    "        lam_sgd_v = 2e-2,\n",
    "        lam_hebb_v=1,\n",
    "        hebb_w=True,\n",
    "    )\n",
    ")(jnp.arange(50))"
   ]
  },
  {
   "cell_type": "code",
   "execution_count": null,
   "id": "51415ade-69b2-4b2e-b3a6-0dfcc987f687",
   "metadata": {},
   "outputs": [],
   "source": [
    "pta_doublel_sv = jax.vmap(\n",
    "    lambda x: simulation_double(\n",
    "        x,\n",
    "        cond=pta_cond,\n",
    "        num_it=50_000,\n",
    "        lr_sgd_v=1e-2,\n",
    "        lr_hebb_v=0e-4,\n",
    "        lr_sgd_w=0,\n",
    "        lr_fsm_w=2e-5,\n",
    "        lam_sgd_v = 2e-2,\n",
    "        lam_hebb_v=1,\n",
    "        hebb_w=True,\n",
    "    )\n",
    ")(jnp.arange(50))"
   ]
  },
  {
   "cell_type": "code",
   "execution_count": null,
   "id": "23d34470-c109-4019-ab7e-8526442eae05",
   "metadata": {},
   "outputs": [],
   "source": [
    "save_to_file(an_doublel_sv[1][0], ap_doublel_sv[1][0], pta_doublel_sv[1][0], \"sim_data/doublel_sv.npz\")"
   ]
  },
  {
   "cell_type": "markdown",
   "id": "77468c78-1bf8-493e-b57b-dde3499b6f83",
   "metadata": {},
   "source": [
    "## Model 3 (non-isotropic)"
   ]
  },
  {
   "cell_type": "code",
   "execution_count": null,
   "id": "905cc332-ec18-4712-932c-cfb81ff73649",
   "metadata": {},
   "outputs": [],
   "source": [
    "an_doublel_sv_wrongpc= jax.vmap(\n",
    "    lambda x: simulation_double_wrongpc(\n",
    "        x,\n",
    "        cond=an_cond,\n",
    "        num_it=5000,\n",
    "        lr_sgd_v=1e-2,\n",
    "        lr_hebb_v=0e-4,\n",
    "        lr_sgd_w=0,\n",
    "        lr_fsm_w=2e-5,\n",
    "        lam_sgd_v = 2e-2,\n",
    "        lam_hebb_v=1,\n",
    "        hebb_w=True,\n",
    "        \n",
    "    )\n",
    ")(jnp.arange(50))"
   ]
  },
  {
   "cell_type": "code",
   "execution_count": null,
   "id": "8e7d9642-6a0d-421a-8491-7cfe10c74cee",
   "metadata": {},
   "outputs": [],
   "source": [
    "ap_doublel_sv_wrongpc = jax.vmap(\n",
    "    lambda x: simulation_double_wrongpc(\n",
    "        x,\n",
    "        cond=ap_cond,\n",
    "        num_it=50_000,\n",
    "        lr_sgd_v=1e-2,\n",
    "        lr_hebb_v=0e-4,\n",
    "        lr_sgd_w=0,\n",
    "        lr_fsm_w=2e-5,\n",
    "        lam_sgd_v = 2e-2,\n",
    "        lam_hebb_v=1,\n",
    "        hebb_w=True,\n",
    "    )\n",
    ")(jnp.arange(50))"
   ]
  },
  {
   "cell_type": "code",
   "execution_count": null,
   "id": "728199de-4a0d-40f2-81a8-88650e0b299c",
   "metadata": {},
   "outputs": [],
   "source": [
    "pta_doublel_sv_wrongpc = jax.vmap(\n",
    "    lambda x: simulation_double_wrongpc(\n",
    "        x,\n",
    "        cond=pta_cond,\n",
    "        num_it=50_000,\n",
    "        lr_sgd_v=1e-2,\n",
    "        lr_hebb_v=0e-4,\n",
    "        lr_sgd_w=0,\n",
    "        lr_fsm_w=2e-5,\n",
    "        lam_sgd_v = 2e-2,\n",
    "        lam_hebb_v=1,\n",
    "        hebb_w=True,\n",
    "    )\n",
    ")(jnp.arange(50))"
   ]
  },
  {
   "cell_type": "code",
   "execution_count": null,
   "id": "0705be37-fdaa-4055-aa4d-f795f54e4ecd",
   "metadata": {},
   "outputs": [],
   "source": [
    "save_to_file(an_doublel_sv_wrongpc[1][0], ap_doublel_sv_wrongpc[1][0], pta_doublel_sv_wrongpc[1][0], \"sim_data/doublel_sv_wrongpc.npz\")"
   ]
  },
  {
   "cell_type": "markdown",
   "id": "6d39f3f9-ad61-4908-8b82-edf7b6f2213a",
   "metadata": {},
   "source": [
    "## Model 4 (non-isotropic)"
   ]
  },
  {
   "cell_type": "code",
   "execution_count": null,
   "id": "195cecf9-4834-48de-aea1-ccb0e1eda057",
   "metadata": {},
   "outputs": [],
   "source": [
    "an_doublel_sv_wrongpc_fsm = jax.vmap(\n",
    "    lambda x: simulation_double_wrongpc(\n",
    "        x,\n",
    "        cond=an_cond,\n",
    "        num_it=5000,\n",
    "        lr_sgd_v=1e-2,\n",
    "        lr_hebb_v=0e-4,\n",
    "        lr_sgd_w=0,\n",
    "        lr_fsm_w=5e-6,\n",
    "        lam_sgd_v = 2e-2,\n",
    "        lam_hebb_v=1,\n",
    "        lam_fsm_w = 5e-1,\n",
    "        hebb_w=False,\n",
    "        \n",
    "    )\n",
    ")(jnp.arange(50))"
   ]
  },
  {
   "cell_type": "code",
   "execution_count": null,
   "id": "d93023e1-53e8-4d5a-bbcb-0798280ff9c0",
   "metadata": {},
   "outputs": [],
   "source": [
    "ap_doublel_sv_wrongpc_fsm = jax.vmap(\n",
    "    lambda x: simulation_double_wrongpc(\n",
    "        x,\n",
    "        cond=ap_cond,\n",
    "        num_it=50_000,\n",
    "        lr_sgd_v=1e-2,\n",
    "        lr_hebb_v=0e-4,\n",
    "        lr_sgd_w=0,\n",
    "        lr_fsm_w=5e-6,\n",
    "        lam_sgd_v = 2e-2,\n",
    "        lam_hebb_v=1,\n",
    "        lam_fsm_w=5e-1,\n",
    "        hebb_w=False,\n",
    "    )\n",
    ")(jnp.arange(50))"
   ]
  },
  {
   "cell_type": "code",
   "execution_count": null,
   "id": "7eef67e4-8d4f-47e5-a9a1-ece53da6ddd9",
   "metadata": {},
   "outputs": [],
   "source": [
    "pta_doublel_sv_wrongpc_fsm = jax.vmap(\n",
    "    lambda x: simulation_double_wrongpc(\n",
    "        x,\n",
    "        cond=pta_cond,\n",
    "        num_it=50_000,\n",
    "        lr_sgd_v=1e-2,\n",
    "        lr_hebb_v=0e-4,\n",
    "        lr_sgd_w=0,\n",
    "        lr_fsm_w=5e-6,\n",
    "        lam_sgd_v = 2e-2,\n",
    "        lam_hebb_v=1,\n",
    "        lam_fsm_w=5e-1,\n",
    "        hebb_w=False,\n",
    "    )\n",
    ")(jnp.arange(50))"
   ]
  },
  {
   "cell_type": "code",
   "execution_count": null,
   "id": "9329b2e3-0f1c-4e64-86c6-400b29dfc3c6",
   "metadata": {},
   "outputs": [],
   "source": [
    "save_to_file(an_doublel_sv_wrongpc_fsm[1][0], ap_doublel_sv_wrongpc_fsm[1][0], pta_doublel_sv_wrongpc_fsm[1][0], \"sim_data/doublel_sv_wrongpc_fsm.npz\")"
   ]
  },
  {
   "cell_type": "markdown",
   "id": "8c80fd59-ec26-41bc-8976-4a06bb243eb5",
   "metadata": {},
   "source": [
    "## Model 5 (non-aligned)"
   ]
  },
  {
   "cell_type": "code",
   "execution_count": null,
   "id": "2a08cebe-88e9-4ce6-8ba2-e06228d3da70",
   "metadata": {},
   "outputs": [],
   "source": [
    "an_doublel_svw_fsm = jax.vmap(\n",
    "    lambda x: simulation_double_fsm(\n",
    "        x,\n",
    "        cond=an_cond,\n",
    "        num_it=5000,\n",
    "        lr_sgd_v=2e-3,\n",
    "        lr_hebb_v=1e-5,\n",
    "        lr_sgd_w=1e-4,\n",
    "        lr_fsm_w=6e-5,\n",
    "        hebb_w=False,\n",
    "        lam_fsm_w = 4e0,\n",
    "    )\n",
    ")(jnp.arange(50))"
   ]
  },
  {
   "cell_type": "code",
   "execution_count": null,
   "id": "76a17f29-c65a-4b5b-8222-1482b0853446",
   "metadata": {},
   "outputs": [],
   "source": [
    "ap_doublel_svw_fsm = jax.vmap(\n",
    "    lambda x: simulation_double_fsm(\n",
    "        x,\n",
    "        cond=ap_cond,\n",
    "        num_it=50000,\n",
    "        lr_sgd_v=2e-3,\n",
    "        lr_hebb_v=1e-5,\n",
    "        lr_sgd_w=1e-4,\n",
    "        lr_fsm_w=6e-5,\n",
    "        lam_fsm_w=4e0,\n",
    "        hebb_w=False,\n",
    "    )\n",
    ")(jnp.arange(50))"
   ]
  },
  {
   "cell_type": "code",
   "execution_count": null,
   "id": "cf5fb73c-f741-4c4d-8160-996f512c178a",
   "metadata": {},
   "outputs": [],
   "source": [
    "pta_doublel_svw_fsm = jax.vmap(\n",
    "    lambda x: simulation_double_fsm(\n",
    "        x,\n",
    "        cond=pta_cond,\n",
    "        num_it=50000,\n",
    "        lr_sgd_v=2e-3,\n",
    "        lr_hebb_v=1e-5,\n",
    "        lr_sgd_w=1e-4,\n",
    "        lr_fsm_w=6e-5,\n",
    "        lam_fsm_w = 4e0,\n",
    "        hebb_w=False,\n",
    "    )\n",
    ")(jnp.arange(50))"
   ]
  },
  {
   "cell_type": "code",
   "execution_count": null,
   "id": "19fc53e9-f53c-40df-91ce-767fd204c4e5",
   "metadata": {},
   "outputs": [],
   "source": [
    "save_to_file(an_doublel_svw_fsm[1][0], ap_doublel_svw_fsm[1][0], pta_doublel_svw_fsm[1][0], \"sim_data/doublel_svw_fsm.npz\")"
   ]
  }
 ],
 "metadata": {
  "kernelspec": {
   "display_name": "Python [conda env:tf2-sound]",
   "language": "python",
   "name": "conda-env-tf2-sound-py"
  },
  "language_info": {
   "codemirror_mode": {
    "name": "ipython",
    "version": 3
   },
   "file_extension": ".py",
   "mimetype": "text/x-python",
   "name": "python",
   "nbconvert_exporter": "python",
   "pygments_lexer": "ipython3",
   "version": "3.9.7"
  }
 },
 "nbformat": 4,
 "nbformat_minor": 5
}
