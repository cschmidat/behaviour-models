{
 "cells": [
  {
   "cell_type": "markdown",
   "id": "be8d2a71-fbc4-4eac-bf97-49d41ce74560",
   "metadata": {
    "jp-MarkdownHeadingCollapsed": true,
    "tags": []
   },
   "source": [
    "# Precompute results (skip for reading)"
   ]
  },
  {
   "cell_type": "markdown",
   "id": "1ce72049-e3c5-4c6b-9a67-0cdea90c9dac",
   "metadata": {},
   "source": [
    "In this section, we precompute the results we want to display and store some of them, so they can be loaded later on. For more information on how the simulation works, refer to the `fresh_analysis.ipynb` notebook in the main directory."
   ]
  },
  {
   "cell_type": "code",
   "execution_count": 1,
   "id": "0f929192-42b5-45e8-a56a-7008986b25ce",
   "metadata": {
    "execution": {
     "iopub.execute_input": "2022-09-16T14:21:12.607870Z",
     "iopub.status.busy": "2022-09-16T14:21:12.607567Z",
     "iopub.status.idle": "2022-09-16T14:21:14.791381Z",
     "shell.execute_reply": "2022-09-16T14:21:14.790205Z",
     "shell.execute_reply.started": "2022-09-16T14:21:12.607837Z"
    },
    "tags": []
   },
   "outputs": [],
   "source": [
    "# Display\n",
    "%matplotlib inline\n",
    "import matplotlib.pyplot as plt\n",
    "from IPython.display import HTML\n",
    "from ipywidgets import interact\n",
    "from tqdm import tqdm, trange\n",
    "from matplotlib import animation\n",
    "\n",
    "# Numerics\n",
    "import numpy as np\n",
    "import jax\n",
    "import jax.numpy as jnp\n",
    "\n",
    "# Functional\n",
    "from typing import List, Callable\n",
    "from functools import partial\n",
    "\n",
    "# Own\n",
    "import sys\n",
    "sys.path.append(\"..\")\n",
    "from data_gen_x import gen_data_x\n",
    "from models import *"
   ]
  },
  {
   "cell_type": "code",
   "execution_count": 2,
   "id": "6b04a5e5-7a0b-481d-9955-2d185368c623",
   "metadata": {
    "execution": {
     "iopub.execute_input": "2022-09-16T14:21:14.793305Z",
     "iopub.status.busy": "2022-09-16T14:21:14.792943Z",
     "iopub.status.idle": "2022-09-16T14:21:14.805232Z",
     "shell.execute_reply": "2022-09-16T14:21:14.804039Z",
     "shell.execute_reply.started": "2022-09-16T14:21:14.793258Z"
    },
    "tags": []
   },
   "outputs": [],
   "source": [
    "def style_plot(ax: plt.Axes, num_it: int) -> plt.Axes:\n",
    "    \"\"\"\n",
    "    Generate style for Learning Rate plots.\n",
    "    :param ax: Drawing axis\n",
    "    :param num_it: Number of plotted iterations\n",
    "    :return: axis\n",
    "    \"\"\"\n",
    "    ax.spines['top'].set_visible(False), ax.spines['right'].set_visible(False)\n",
    "    ax.legend()\n",
    "    ax.hlines(50,0,num_it,color=\"silver\", linestyles=\"--\") \n",
    "    ax.set_xlabel(\"Iteration\")\n",
    "    ax.set_ylabel(\"Correct trials (%)\")\n",
    "    ax.set_xlim((0, num_it))\n",
    "    return ax"
   ]
  },
  {
   "cell_type": "code",
   "execution_count": 3,
   "id": "73ab7f7c-6d2a-445c-b6ea-983ed40a85cd",
   "metadata": {
    "execution": {
     "iopub.execute_input": "2022-09-16T14:21:14.817329Z",
     "iopub.status.busy": "2022-09-16T14:21:14.817085Z",
     "iopub.status.idle": "2022-09-16T14:21:14.826530Z",
     "shell.execute_reply": "2022-09-16T14:21:14.825629Z",
     "shell.execute_reply.started": "2022-09-16T14:21:14.817298Z"
    },
    "tags": []
   },
   "outputs": [],
   "source": [
    "def simulation(\n",
    "    seed: int,\n",
    "    num_it: int = 2000,\n",
    "    cond: Callable = an_cond,\n",
    "    lr_sgd: float = 8e-3,\n",
    "    lr_hebb: float = 5e-3,\n",
    "):\n",
    "    \"\"\"\n",
    "    Prepare test and validation data and run simulation.\n",
    "    :param seed: Random PRNG seed\n",
    "    :param num_it: Number of iterations to run\n",
    "    :param cond: Function specifying if iteration i is an active or only passive trial.\n",
    "    :param lr_sgd: SGD learning rate for v\n",
    "    :param lr_hebb: Hebbian learning rate for v\n",
    "    \"\"\"\n",
    "    jax_key = jax.random.PRNGKey(seed)\n",
    "\n",
    "    # Prepare means of point clouds\n",
    "    data_means = parclass_v().means \n",
    "    data_sigs = parclass_base(pancake_scale=1).sigs\n",
    "\n",
    "    X_train, y_train, _ = gen_data_x(\n",
    "        jax_key, 1000, 20, 2, data_sigs, data_means, vec=True\n",
    "    )\n",
    "\n",
    "    jax_key, subkey1, subkey2 = jax.random.split(jax_key, 3)\n",
    "    X_val, y_val, _ = gen_data_x(\n",
    "        subkey1, 1000, 20, 2, data_sigs, data_means, vec=True\n",
    "    )\n",
    "\n",
    "    sim_pars = parclass_v(\n",
    "        lr_sgd_v=lr_sgd, lr_hebb_v=lr_hebb, lam_sgd_v=1e-2, lam_hebb_v=1\n",
    "    )\n",
    "    sim_pars.means = data_means\n",
    "\n",
    "    test_single = OneLayer(subkey2, pars=sim_pars)\n",
    "    test_single.run_scheme(cond, X_train, y_train, X_val, y_val, num_it)\n",
    "    return test_single.metrics"
   ]
  },
  {
   "cell_type": "code",
   "execution_count": 4,
   "id": "70a86d2e-6b77-496e-97a9-5b906ab1b187",
   "metadata": {
    "execution": {
     "iopub.execute_input": "2022-09-16T14:21:14.827894Z",
     "iopub.status.busy": "2022-09-16T14:21:14.827620Z",
     "iopub.status.idle": "2022-09-16T14:21:14.836651Z",
     "shell.execute_reply": "2022-09-16T14:21:14.835819Z",
     "shell.execute_reply.started": "2022-09-16T14:21:14.827867Z"
    },
    "tags": []
   },
   "outputs": [],
   "source": [
    "def simulation_double(\n",
    "    seed: int,\n",
    "    num_it: int = 2000,\n",
    "    cond: Callable = an_cond,\n",
    "    lr_sgd_v: float = 0,\n",
    "    lr_hebb_v: float = 1e-4,\n",
    "    lr_sgd_w: float = 1e-3,\n",
    "    lr_fsm_w: float = 2e-3,\n",
    "    hebb_w: bool = False,\n",
    "    debug: bool = False\n",
    "):\n",
    "    \"\"\"\n",
    "    Prepare test and validation data and run simulation.\n",
    "    :param seed: Random PRNG seed\n",
    "    :param num_it: Number of iterations to run\n",
    "    :param cond: Function specifying if iteration i is an active or only passive trial.\n",
    "    :param lr_sgd_v: SGD learning rate for v\n",
    "    :param lr_hebb_v: Hebbian learning rate for v\n",
    "    :param lr_sgd_w: SGD learning rate for W\n",
    "    :param lr_fsm_w: FSM/Hebbian learning rate for W\n",
    "    :param hebb_w: If True, use Hebbian learning for W, otherwise FSM\n",
    "    \"\"\"\n",
    "    jax_key = jax.random.PRNGKey(seed)\n",
    "\n",
    "    # Prepare means of point clouds\n",
    "    data_means = parclass_wv().means \n",
    "\n",
    "    X_train, y_train, _ = gen_data_x(\n",
    "        jax_key, 1000, 20, 2, parclass_wv().sigs, data_means, vec=True\n",
    "    )\n",
    "    jax_key, subkey1, subkey2 = jax.random.split(jax_key, 3)\n",
    "    X_val, y_val, _ = gen_data_x(\n",
    "        subkey1, 1000, 20, 2, parclass_wv().sigs, data_means, vec=True\n",
    "    )\n",
    "\n",
    "    sim_pars = parclass_wv(\n",
    "        lam_fsm_w=1,\n",
    "        lam_sgd_w=1e-2,\n",
    "        lam_hebb_v=1,\n",
    "        lam_sgd_v=5e-2,\n",
    "        lr_hebb_v=lr_hebb_v,\n",
    "        lr_fsm_w=lr_fsm_w,\n",
    "        lr_sgd_w=lr_sgd_w,\n",
    "        lr_sgd_v=lr_sgd_v,\n",
    "        hebb_w=hebb_w,\n",
    "        lr_sgd_v_decay=0,\n",
    "        debug=debug\n",
    "    )\n",
    "    sim_pars.means = data_means\n",
    "\n",
    "    test_double = TwoLayer(subkey2, pars=sim_pars)\n",
    "    test_double.run_scheme(cond, X_train, y_train, X_val, y_val, num_it)\n",
    "    return test_double.metrics"
   ]
  },
  {
   "cell_type": "markdown",
   "id": "0ec084f6-227f-476d-91fb-cdd0108bccf5",
   "metadata": {},
   "source": [
    "One layer network simulations"
   ]
  },
  {
   "cell_type": "code",
   "execution_count": 5,
   "id": "566506c6-b2c6-48bc-bf7c-32f6f8715e47",
   "metadata": {
    "execution": {
     "iopub.execute_input": "2022-09-16T13:13:28.515208Z",
     "iopub.status.busy": "2022-09-16T13:13:28.514685Z",
     "iopub.status.idle": "2022-09-16T13:13:53.715954Z",
     "shell.execute_reply": "2022-09-16T13:13:53.715224Z",
     "shell.execute_reply.started": "2022-09-16T13:13:28.515158Z"
    },
    "tags": []
   },
   "outputs": [
    {
     "name": "stdout",
     "output_type": "stream",
     "text": [
      "(2000,)\n",
      "(20000,)\n",
      "(20000,)\n"
     ]
    }
   ],
   "source": [
    "an_onel = jax.vmap(lambda seed: simulation(seed, cond=an_cond, num_it=2000))(\n",
    "    jnp.arange(100)\n",
    ")\n",
    "ap_onel = jax.vmap(lambda seed: simulation(seed, cond=ap_cond, num_it=20000))(\n",
    "    jnp.arange(100)\n",
    ")\n",
    "pta_onel = jax.vmap(lambda seed: simulation(seed, cond=pta_cond, num_it=20000))(\n",
    "    jnp.arange(100)\n",
    ")"
   ]
  },
  {
   "cell_type": "markdown",
   "id": "4b296dc5-99f8-470e-bdf5-4544c78bfd7e",
   "metadata": {},
   "source": [
    "Two layer network simulations"
   ]
  },
  {
   "cell_type": "code",
   "execution_count": 13,
   "id": "5d0a872f-c19a-4f1d-af70-fe0480ae3553",
   "metadata": {
    "execution": {
     "iopub.execute_input": "2022-09-16T13:44:09.608527Z",
     "iopub.status.busy": "2022-09-16T13:44:09.608348Z",
     "iopub.status.idle": "2022-09-16T13:45:28.606693Z",
     "shell.execute_reply": "2022-09-16T13:45:28.605683Z",
     "shell.execute_reply.started": "2022-09-16T13:44:09.608504Z"
    },
    "tags": []
   },
   "outputs": [
    {
     "name": "stdout",
     "output_type": "stream",
     "text": [
      "(4000,)\n",
      "(40000,)\n",
      "(40000,)\n"
     ]
    }
   ],
   "source": [
    "#Unsupervised v, Supervised W\n",
    "an_doublel_sw = jax.vmap(lambda seed: simulation_double(seed, cond=an_cond, num_it=4000, lr_sgd_v=0, lr_hebb_v=2e-3, lr_sgd_w=2e-3, lr_fsm_w=0, hebb_w=True))(jnp.arange(100))\n",
    "ap_doublel_sw = jax.vmap(lambda seed: simulation_double(seed, cond=ap_cond, num_it=40000, lr_sgd_v=0, lr_hebb_v=2e-3, lr_sgd_w=2e-3, lr_fsm_w=0, hebb_w=True))(jnp.arange(100))\n",
    "pta_doublel_sw = jax.vmap(lambda seed: simulation_double(seed, cond=pta_cond, num_it=40000, lr_sgd_v=0, lr_hebb_v=2e-3, lr_sgd_w=2e-3, lr_fsm_w=0, hebb_w=True))(jnp.arange(100))"
   ]
  },
  {
   "cell_type": "code",
   "execution_count": 10,
   "id": "899a2bd9-303c-4602-8776-56b4afc6948d",
   "metadata": {
    "execution": {
     "iopub.execute_input": "2022-09-16T14:25:27.631094Z",
     "iopub.status.busy": "2022-09-16T14:25:27.630653Z",
     "iopub.status.idle": "2022-09-16T14:25:27.643671Z",
     "shell.execute_reply": "2022-09-16T14:25:27.642892Z",
     "shell.execute_reply.started": "2022-09-16T14:25:27.631033Z"
    },
    "tags": []
   },
   "outputs": [],
   "source": [
    "#Functions to make videos\n",
    "def get_pts_from_line(v, b):\n",
    "    \"\"\"Returns two points on the line v\\dot x + b = 0.\"\"\"\n",
    "    v = np.array(v)\n",
    "    norm_v = np.linalg.norm(v)\n",
    "    if v[1] != 0:\n",
    "        p1 = (+1, -(b + v[0]) / v[1] ) / norm_v\n",
    "        p2 = (-1, -(b - v[0]) / v[1] ) / norm_v\n",
    "    else:\n",
    "        p1 = (b / v[0], 1) / norm_v\n",
    "        p2 = (b / v[0], -1) / norm_v\n",
    "    return (p1, p2)\n",
    "\n",
    "xdata_plot, ydata_plot = [], []\n",
    "\n",
    "\n",
    "def animate_sw(i):\n",
    "    \"\"\"Animation function for updates\"\"\"\n",
    "    my_line_plot.set_offsets(plot_doublel[1][2][0][i])\n",
    "    global my_axe\n",
    "    my_axe.remove()\n",
    "    my_axe = ax.axline(*get_pts_from_line(plot_doublel[1][4][0][i], 0), ls = '--')"
   ]
  },
  {
   "cell_type": "code",
   "execution_count": 11,
   "id": "48102c2b-33c3-414d-a0df-5afaef31a727",
   "metadata": {
    "execution": {
     "iopub.execute_input": "2022-09-16T14:25:37.386361Z",
     "iopub.status.busy": "2022-09-16T14:25:37.385965Z",
     "iopub.status.idle": "2022-09-16T14:27:21.276608Z",
     "shell.execute_reply": "2022-09-16T14:27:21.275844Z",
     "shell.execute_reply.started": "2022-09-16T14:25:37.386311Z"
    },
    "tags": []
   },
   "outputs": [
    {
     "name": "stdout",
     "output_type": "stream",
     "text": [
      "(40000,)\n"
     ]
    },
    {
     "data": {
      "image/png": "[encoded data removed]",
      "text/plain": [
       "<Figure size 432x288 with 1 Axes>"
      ]
     },
     "metadata": {
      "needs_background": "light"
     },
     "output_type": "display_data"
    }
   ],
   "source": [
    "plot_doublel = jax.vmap(lambda x: simulation_double(x, cond=pta_cond, num_it=40000, lr_sgd_v=0, lr_hebb_v=2e-3, lr_sgd_w=2e-3, lr_fsm_w=0, hebb_w=True, debug=True))(jnp.arange(2,4))\n",
    "fig, ax = plt.subplots()\n",
    "ax.set_aspect('equal')\n",
    "ax.set_xlim(-0.5, 0.5)\n",
    "ax.set_ylim(-0.5, 0.5)\n",
    "my_line_plot = ax.scatter(*zip(*plot_doublel[1][2][0][0]), c=plot_doublel[1][3][0][0])\n",
    "my_axe = ax.axline(*get_pts_from_line(plot_doublel[1][4][0][0], 0), ls = '--')\n",
    "anim = animation.FuncAnimation(fig, animate_sw,\n",
    "                                frames=range(0,len(plot_doublel[1][2][0]), 100), interval=100,repeat=False)\n",
    "writervideo = animation.FFMpegWriter(fps=60)\n",
    "anim.save('vid/swuv.mp4', writer=writervideo)"
   ]
  },
  {
   "cell_type": "code",
   "execution_count": 5,
   "id": "74805b04-2670-41f8-9d66-63ac31588611",
   "metadata": {
    "execution": {
     "iopub.execute_input": "2022-09-16T14:21:17.569326Z",
     "iopub.status.busy": "2022-09-16T14:21:17.568936Z",
     "iopub.status.idle": "2022-09-16T14:22:45.012721Z",
     "shell.execute_reply": "2022-09-16T14:22:45.011739Z",
     "shell.execute_reply.started": "2022-09-16T14:21:17.569277Z"
    },
    "tags": []
   },
   "outputs": [
    {
     "name": "stdout",
     "output_type": "stream",
     "text": [
      "(4000,)\n",
      "(40000,)\n",
      "(40000,)\n"
     ]
    }
   ],
   "source": [
    "#Unsupervised W, supervised v\n",
    "an_doublel_sv = jax.vmap(lambda seed: simulation_double(seed, cond=an_cond, num_it=4000, lr_sgd_v=2e-2, lr_hebb_v=0, lr_sgd_w=0, lr_fsm_w=2e-2, hebb_w=True))(jnp.arange(100))\n",
    "ap_doublel_sv = jax.vmap(lambda seed: simulation_double(seed, cond=ap_cond, num_it=40000, lr_sgd_v=2e-2, lr_hebb_v=0, lr_sgd_w=0, lr_fsm_w=2e-2, hebb_w=True))(jnp.arange(100))\n",
    "pta_doublel_sv = jax.vmap(lambda seed: simulation_double(seed, cond=pta_cond, num_it=40000, lr_sgd_v=2e-2, lr_hebb_v=0, lr_sgd_w=0, lr_fsm_w=2e-2, hebb_w=True))(jnp.arange(100))"
   ]
  },
  {
   "cell_type": "code",
   "execution_count": 24,
   "id": "25d1492c-612c-4b7a-90d2-3655fc4ddc4b",
   "metadata": {
    "execution": {
     "iopub.execute_input": "2022-09-16T14:32:42.612732Z",
     "iopub.status.busy": "2022-09-16T14:32:42.612280Z",
     "iopub.status.idle": "2022-09-16T14:33:13.911029Z",
     "shell.execute_reply": "2022-09-16T14:33:13.910213Z",
     "shell.execute_reply.started": "2022-09-16T14:32:42.612680Z"
    },
    "tags": []
   },
   "outputs": [
    {
     "name": "stdout",
     "output_type": "stream",
     "text": [
      "(40000,)\n"
     ]
    },
    {
     "data": {
      "image/png": "[encoded data removed]",
      "text/plain": [
       "<Figure size 432x288 with 1 Axes>"
      ]
     },
     "metadata": {
      "needs_background": "light"
     },
     "output_type": "display_data"
    }
   ],
   "source": [
    "plot_doublel = jax.vmap(lambda x: simulation_double(x, cond=pta_cond, num_it=40000, lr_sgd_v=2e-2, lr_hebb_v=0, lr_sgd_w=0, lr_fsm_w=2e-2, hebb_w=True, debug=True))(jnp.arange(2,4))\n",
    "fig, ax = plt.subplots()\n",
    "ax.set_aspect('equal')\n",
    "ax.set_xlim(-0.5, 0.5)\n",
    "ax.set_ylim(-0.5, 0.5)\n",
    "my_line_plot = ax.scatter(*zip(*plot_doublel[1][2][0][0]), c=plot_doublel[1][3][0][0])\n",
    "my_axe = ax.axline(*get_pts_from_line(plot_doublel[1][4][0][0], 0), ls = '--')\n",
    "anim = animation.FuncAnimation(fig, animate_sw,\n",
    "                                frames=range(0,len(plot_doublel[1][2][0]), 100), interval=100,repeat=False)\n",
    "writervideo = animation.FFMpegWriter(fps=60)\n",
    "anim.save('vid/svuw.mp4', writer=writervideo)"
   ]
  },
  {
   "cell_type": "markdown",
   "id": "9980a56e-8ede-4ba1-9e20-e69bae067b5f",
   "metadata": {},
   "source": [
    "# Modelling for Sound Discrimination Task"
   ]
  },
  {
   "cell_type": "markdown",
   "id": "a208efb8-0fa1-45a3-a067-86a8023f01ff",
   "metadata": {},
   "source": [
    "## Task"
   ]
  },
  {
   "cell_type": "markdown",
   "id": "0e60c393-9e30-45de-986a-0e137c649842",
   "metadata": {},
   "source": [
    "We want to model a behavioural experiment where mice learn to discrimante pitch-up and pitch-down sounds in different learning settings. In order to build a simple machine learning model, we simplify the task as follows: We assume that the two different sounds are represented by abstract input points in a high dimensional space. To incorporate natural neuronal variability, we assume that the two inputs are drawn from two normal distributions $\\mathcal{N}(\\vec\\mu_\\pm, \\Sigma)$.\n",
    "\n",
    "For our initial simulations, we simply set\n",
    "$$\\Sigma = \\sigma^2 \\mathbf{1}, \\quad \\mu_\\pm = \\pm (a, 0, \\ldots, 0),$$\n",
    "where $\\sigma=0.07$, $a=0.1$. We choose the dimension $d$ of our input to be 20."
   ]
  },
  {
   "cell_type": "markdown",
   "id": "7000f319-6959-4d51-9448-d9928b487d96",
   "metadata": {},
   "source": [
    "Figure: Data distribution"
   ]
  },
  {
   "cell_type": "markdown",
   "id": "409ee621-323c-4e32-8c24-a47dbf81b935",
   "metadata": {},
   "source": [
    "## Learning schemes"
   ]
  },
  {
   "cell_type": "markdown",
   "id": "a08479cb-29e1-42ab-bc21-c050577668e5",
   "metadata": {},
   "source": [
    "We train our model with combinations of\n",
    "\n",
    "- Active Learning: The model is provided with a sample and its label.\n",
    "- Passive Learning: The model is provided with a passive sample. To reproduce the learning scheme of the experiment, we assume those passive samples are drawn from normal distributions with means on the line segment between $\\vec \\mu_+$ and $\\vec \\mu_-$ and covariance $\\Sigma$.\n",
    "\n",
    "This is combined into the following three training schemes:\n",
    "\n",
    "- Active only: For all training sessions, the model is provided with a sample and its label.\n",
    "- Active and Passive (A + P): Each active training session is followed by 9 passive sessions.\n",
    "- Passive then Active (P : A): The first 90% of sessions are only passive, the last 10% are active.\n",
    "\n",
    "In our simulations, we let each training scheme have the same total number of active sessions."
   ]
  },
  {
   "cell_type": "markdown",
   "id": "a1f3d420-c293-41ce-a010-ab5c655e794e",
   "metadata": {},
   "source": [
    "## One-layer model"
   ]
  },
  {
   "cell_type": "markdown",
   "id": "014bb14c-029f-46a3-a9c6-ab2ae6f35477",
   "metadata": {},
   "source": [
    "<center>\n",
    "<img src=\"img/vmodel.png\">\n",
    "</center>"
   ]
  },
  {
   "cell_type": "markdown",
   "id": "cd88df65-a04d-440f-9aaf-98cef8d5d7f4",
   "metadata": {},
   "source": [
    "In the one-layer model, the input $\\vec x$ is multiplied by a weight vector $\\vec v$ to produce an output $\\sigma(\\vec v \\cdot \\vec x)$, where $\\sigma$ is the logistic sigmoid function. This model can be trained with\n",
    "- Supervised Learning: The weight $\\vec v$ undergoes ($\\ell^2$-regularized) stochastic gradient descent with binary cross-entropy as the loss function; this is logistic regression.\n",
    "- Unsupervised Learning: The weight $\\vec v$ is trained with Hebbian learning with weight decay (Oja's rule)."
   ]
  },
  {
   "cell_type": "markdown",
   "id": "9a1dec72-abda-4a59-a815-ea5408487251",
   "metadata": {},
   "source": [
    "## Two-layer model"
   ]
  },
  {
   "cell_type": "markdown",
   "id": "b656a225-5c71-4b4e-b37d-7ba317c07c88",
   "metadata": {
    "execution": {
     "iopub.execute_input": "2022-09-15T16:59:20.720770Z",
     "iopub.status.busy": "2022-09-15T16:59:20.720176Z",
     "iopub.status.idle": "2022-09-15T16:59:20.729997Z",
     "shell.execute_reply": "2022-09-15T16:59:20.728605Z",
     "shell.execute_reply.started": "2022-09-15T16:59:20.720715Z"
    },
    "tags": []
   },
   "source": [
    "<center><img src=\"img/vwmodel.png\"  align=\"center\"/></center>"
   ]
  },
  {
   "cell_type": "markdown",
   "id": "cc9c3c42-4d3e-4a47-8490-554f6955af8a",
   "metadata": {},
   "source": [
    "In addition to the readout weight $\\vec v$, the two layer model has an initial weight $W$ mapping the input $\\vec x$ to a hidden representation $\\vec y = W \\vec x$. The output of the model is then $\\sigma(\\vec v \\cdot W\\vec x)$. For our simulations, the dimension of the hidden layer $d_\\text{hid}$ is smaller than the input dimension $d$.\n",
    "\n",
    "We can train $v$ using the same algorithms as above, and in addition, we have the option to train $W$ with\n",
    "- Supervised Learning: The weight $W$ undergoes ($\\ell^2$-regularized) stochastic gradient with a binary cross-entropy loss.\n",
    "- Unsupervised Learning: The weight $W$ is trained with Hebbian learning with weight decay (Oja's rule). This learns the first principal component of the input data. We could use an extension of this algorithm to learn higher components (like Fast Similarity Matching by Pehlevan et al.)"
   ]
  },
  {
   "cell_type": "markdown",
   "id": "81509100-04b7-431c-b998-bd344694faa0",
   "metadata": {},
   "source": [
    "# Results"
   ]
  },
  {
   "cell_type": "markdown",
   "id": "dea0f89f-fd06-4099-97e5-a99630b0fbd9",
   "metadata": {},
   "source": [
    "## One-layer model"
   ]
  },
  {
   "cell_type": "markdown",
   "id": "a6e39816-b0a2-4498-ba4e-783ee5b0aa12",
   "metadata": {},
   "source": [
    "For the one-layer network, we can use either supervised learning for $\\vec v$, unsupervised learning for $\\vec v$, or both. A model with only unsupervised learning would never reliably learn the correct association between inputs and their labels, because of the problem's $\\mathbb Z_2$ symmetry. Having only supervised learning could not explain the benefit of passive training sessions. Thus, both the unsupervised and the supervised learning rates in our model have to be non-zero."
   ]
  },
  {
   "cell_type": "code",
   "execution_count": 42,
   "id": "661d294d-433d-4768-b3e0-625100e712cc",
   "metadata": {
    "execution": {
     "iopub.execute_input": "2022-09-16T12:18:03.589045Z",
     "iopub.status.busy": "2022-09-16T12:18:03.588652Z",
     "iopub.status.idle": "2022-09-16T12:18:03.894520Z",
     "shell.execute_reply": "2022-09-16T12:18:03.893954Z",
     "shell.execute_reply.started": "2022-09-16T12:18:03.588996Z"
    },
    "tags": []
   },
   "outputs": [
    {
     "data": {
      "image/png": "[encoded data removed]",
      "text/plain": [
       "<Figure size 600x400 with 1 Axes>"
      ]
     },
     "metadata": {
      "needs_background": "light"
     },
     "output_type": "display_data"
    }
   ],
   "source": [
    "to_draw = [\n",
    "    [an_onel[1][0], \"A only\", \"blue\"],\n",
    "    [ap_onel[1][0][:, ::10], \"A + P\", \"green\"],\n",
    "    [pta_onel[1][0][:, -2000:], \"P : A\", \"red\"],\n",
    "]\n",
    "fig, ax = plt.subplots(1,1)\n",
    "for data, label, color in to_draw:\n",
    "    data_mean = 100 * data.mean(axis=0)\n",
    "    data_std = 100 * data.std(axis=0)\n",
    "    ax.plot(data_mean, label=label, color=color)\n",
    "    ax.fill_between(\n",
    "        np.arange(len(data_mean)),\n",
    "        data_mean - data_std,\n",
    "        data_mean + data_std,\n",
    "        alpha=0.2,\n",
    "        color=color,\n",
    "    )\n",
    "ax = style_plot(ax, 2000)\n",
    "ax.set_title(\"One Layer Network\")\n",
    "fig.set_dpi(100)\n",
    "fig.show()"
   ]
  },
  {
   "cell_type": "markdown",
   "id": "04030614-08a7-4e9d-8e9d-b5095669b547",
   "metadata": {},
   "source": [
    "As we can see, there is no benefit to passive pre-exposure, and even the interleaved passive training sessions only help imperceptibly. "
   ]
  },
  {
   "cell_type": "markdown",
   "id": "8ac43fe9-6f5d-4b5e-befe-ff0dfa53f730",
   "metadata": {},
   "source": [
    "## Two-layer model"
   ]
  },
  {
   "cell_type": "markdown",
   "id": "8fbfc480-7cee-475b-9753-7c778dffe7d5",
   "metadata": {},
   "source": [
    "For the two-layer model, we can use the same reasoning as above to argue that we need to incorporate supervised and unsupervised learning. A simple way to do so is to have only supervised learning for one weight, and only unsupervised learning for the other one. We set the hidden dimension $d_\\text{hid}=2$, which enables us to illustrate the learning dynamics."
   ]
  },
  {
   "cell_type": "markdown",
   "id": "3554d9e2-dcb2-4343-be8f-de69e56cdf8e",
   "metadata": {},
   "source": [
    "### Unsupervised v, Supervised W"
   ]
  },
  {
   "cell_type": "markdown",
   "id": "a9af9a3e-0fff-42db-93b3-22dd4444b688",
   "metadata": {},
   "source": [
    "Let's first try the combination of supervised learning for $W$, and unsupervised learning for $v$."
   ]
  },
  {
   "cell_type": "code",
   "execution_count": 14,
   "id": "b95b1db6-d17c-42a9-8ab7-ddafb13db057",
   "metadata": {
    "execution": {
     "iopub.execute_input": "2022-09-16T13:26:30.627914Z",
     "iopub.status.busy": "2022-09-16T13:26:30.627571Z",
     "iopub.status.idle": "2022-09-16T13:26:30.883237Z",
     "shell.execute_reply": "2022-09-16T13:26:30.882564Z",
     "shell.execute_reply.started": "2022-09-16T13:26:30.627870Z"
    },
    "tags": []
   },
   "outputs": [
    {
     "data": {
      "image/png": "[encoded data removed]",
      "text/plain": [
       "<Figure size 432x288 with 1 Axes>"
      ]
     },
     "metadata": {
      "needs_background": "light"
     },
     "output_type": "display_data"
    }
   ],
   "source": [
    "to_draw = [[an_doublel_sw[1][0], \"A only\", \"blue\"], [ap_doublel_sw[1][0][:,::10], \"A + P\", \"green\"], [pta_doublel_sw[1][0][:,-4000:], \"P : A\", \"red\"]]\n",
    "for data, label, color in to_draw:\n",
    "    data_mean = data.mean(axis=0)\n",
    "    data_std = data.std(axis=0)\n",
    "    plt.plot(data_mean, label=label, color=color)\n",
    "    plt.fill_between(np.arange(len(data_mean)), data_mean-data_std, data_mean+data_std, alpha=0.2, color=color)\n",
    "plt.legend()\n",
    "plt.title('Two Layer Network, supervised W')\n",
    "plt.xlabel('iteration');\n",
    "plt.ylabel('accuracy');\n",
    "plt.show()"
   ]
  },
  {
   "cell_type": "markdown",
   "id": "7acf3a11-e669-41df-acb1-90ca280cca35",
   "metadata": {},
   "source": [
    "As we can see, we simply replicate the results of the one-layer model. To see why this is the case, let's watch a video of the hidden representation during a passive-then-active session. "
   ]
  },
  {
   "cell_type": "code",
   "execution_count": 9,
   "id": "1ed84c04-4b8a-462a-8a13-c786c1e444ea",
   "metadata": {
    "execution": {
     "iopub.execute_input": "2022-09-16T13:30:05.061539Z",
     "iopub.status.busy": "2022-09-16T13:30:05.061363Z",
     "iopub.status.idle": "2022-09-16T13:30:05.066566Z",
     "shell.execute_reply": "2022-09-16T13:30:05.066042Z",
     "shell.execute_reply.started": "2022-09-16T13:30:05.061516Z"
    },
    "tags": []
   },
   "outputs": [
    {
     "data": {
      "text/html": [
       "<video width=\"400\" height=\"400\" controls><source src=\"vid/swuv.mp4\" type=\"video/mp4\"></video>"
      ],
      "text/plain": [
       "<IPython.core.display.HTML object>"
      ]
     },
     "metadata": {},
     "output_type": "display_data"
    }
   ],
   "source": [
    "display(HTML(\"\"\"<video width=\"400\" height=\"400\" controls><source src=\"vid/swuv.mp4\" type=\"video/mp4\"></video>\"\"\"))"
   ]
  },
  {
   "cell_type": "markdown",
   "id": "307d137a-7d8c-4ffd-b89c-c243fa9728b2",
   "metadata": {},
   "source": [
    "What's happening here is that the initial hidden representation is not very separable, so the Hebbian learning of $v$ during the passive sessions doesn't separate the point clouds."
   ]
  },
  {
   "cell_type": "markdown",
   "id": "880a5a65-56d6-45ef-b881-863cac66a3a8",
   "metadata": {},
   "source": [
    "## Supervised W, unsupervised v"
   ]
  },
  {
   "cell_type": "markdown",
   "id": "c52d7d14-1dc7-47ad-8930-8383b3aa2321",
   "metadata": {},
   "source": [
    "The combination of supervised learning for $W$, and unsupervised learning for $\\vec v$ works better."
   ]
  },
  {
   "cell_type": "code",
   "execution_count": 6,
   "id": "9ea615aa-eb6f-4a25-8d92-0f6cc0765c00",
   "metadata": {
    "execution": {
     "iopub.execute_input": "2022-09-16T14:22:45.333667Z",
     "iopub.status.busy": "2022-09-16T14:22:45.333470Z",
     "iopub.status.idle": "2022-09-16T14:22:46.691687Z",
     "shell.execute_reply": "2022-09-16T14:22:46.691028Z",
     "shell.execute_reply.started": "2022-09-16T14:22:45.333645Z"
    },
    "tags": []
   },
   "outputs": [
    {
     "data": {
      "image/png": "[encoded data removed]",
      "text/plain": [
       "<Figure size 432x288 with 1 Axes>"
      ]
     },
     "metadata": {
      "needs_background": "light"
     },
     "output_type": "display_data"
    }
   ],
   "source": [
    "to_draw = [[an_doublel_sv[1][0], \"A only\", \"blue\"], [ap_doublel_sv[1][0][:,::10], \"A + P\", \"green\"], [pta_doublel_sv[1][0][:,-4000:], \"P : A\", \"red\"]]\n",
    "for data, label, color in to_draw:\n",
    "    data_mean = data.mean(axis=0)\n",
    "    data_std = data.std(axis=0)\n",
    "    plt.plot(data_mean, label=label, color=color)\n",
    "    plt.fill_between(np.arange(len(data_mean)), data_mean-data_std, data_mean+data_std, alpha=0.2, color=color)\n",
    "plt.legend()\n",
    "plt.title('Two Layer Network, supervised v')\n",
    "plt.xlabel('iteration');\n",
    "plt.ylabel('accuracy');\n",
    "plt.show()"
   ]
  },
  {
   "cell_type": "markdown",
   "id": "746a9e9b-ac63-4bb0-9330-13115506dd9f",
   "metadata": {},
   "source": [
    "In this case, passive learning provides a clear benefit. Let's look at another video of a passive-then-active session to understand that."
   ]
  },
  {
   "cell_type": "code",
   "execution_count": 25,
   "id": "44342744-0f06-4de9-8264-8a86731a5f9d",
   "metadata": {
    "execution": {
     "iopub.execute_input": "2022-09-16T14:33:14.677510Z",
     "iopub.status.busy": "2022-09-16T14:33:14.677333Z",
     "iopub.status.idle": "2022-09-16T14:33:14.682659Z",
     "shell.execute_reply": "2022-09-16T14:33:14.682169Z",
     "shell.execute_reply.started": "2022-09-16T14:33:14.677487Z"
    },
    "tags": []
   },
   "outputs": [
    {
     "data": {
      "text/html": [
       "<video width=\"400\" height=\"400\" controls><source src=\"vid/svuw.mp4\" type=\"video/mp4\"></video>"
      ],
      "text/plain": [
       "<IPython.core.display.HTML object>"
      ]
     },
     "metadata": {},
     "output_type": "display_data"
    }
   ],
   "source": [
    "display(HTML(\"\"\"<video width=\"400\" height=\"400\" controls><source src=\"vid/svuw.mp4\" type=\"video/mp4\"></video>\"\"\"))"
   ]
  },
  {
   "cell_type": "markdown",
   "id": "dcf5da22-f466-480d-93af-bd1a1b0fa117",
   "metadata": {},
   "source": [
    "As we can see, in this case, the passive training sessions are used to extract the first principal component of the input data onto the hidden layer. This is a useful starting point to do stochastic gradient descent for $\\vec v$. "
   ]
  },
  {
   "cell_type": "markdown",
   "id": "2463f8c1-e06f-4b8c-9b88-309e6ab0ef7f",
   "metadata": {},
   "source": [
    "## Next Steps (TBD)"
   ]
  },
  {
   "cell_type": "markdown",
   "id": "9fa11c0b-b279-4cc8-9f9c-a02f590a85a7",
   "metadata": {},
   "source": [
    "### Similarity Matching"
   ]
  },
  {
   "cell_type": "markdown",
   "id": "7d28ca4e-c60a-46ed-bd0f-dcddbf10e0a5",
   "metadata": {},
   "source": [
    "To elucidate the differences between similarity matching and Hebbian learning, we have to choose a more complex input data distribution. Specifically, in this report, the input space is assumed to be 100-dimensional, and\n",
    "$$\\Sigma = O\\, \\text{diag}(\\underbrace{8\\sigma^2, \\ldots, 8\\sigma^2}_{\\times 20}, \\underbrace{\\sigma^2, \\ldots,\\sigma^2}_{\\times 80})\\, O^T,$$\n",
    "where $O$ is a random orthogonal matrix.\n",
    "\n",
    "This implies a hierarchy in the principal components of the input: The first 20 columns of $O$ span the higher principal components, while the data in the other 80 directions is more narrowly distributed. The decoding direction $\\Delta \\vec \\mu$ is chosen as\n",
    "$$\\Delta \\vec\\mu = \\alpha\\frac{1}{\\sqrt{30}}\\sum_{i=1}^{30} \\vec O_i,$$\n",
    "where $\\vec O_i$ is the $i$-th column vector of $O$ and $\\alpha$ is a scalar determining the signal to noise ratio."
   ]
  },
  {
   "cell_type": "markdown",
   "id": "4fa238cf-8303-4dab-aa32-7e4e7eaa4374",
   "metadata": {},
   "source": [
    "## Bimodality"
   ]
  },
  {
   "cell_type": "code",
   "execution_count": 22,
   "id": "9c727e83-1e41-4db6-890e-c0e67edb2def",
   "metadata": {
    "execution": {
     "iopub.execute_input": "2022-09-16T14:31:45.775349Z",
     "iopub.status.busy": "2022-09-16T14:31:45.774812Z",
     "iopub.status.idle": "2022-09-16T14:31:45.954673Z",
     "shell.execute_reply": "2022-09-16T14:31:45.954041Z",
     "shell.execute_reply.started": "2022-09-16T14:31:45.775293Z"
    },
    "tags": []
   },
   "outputs": [
    {
     "data": {
      "application/vnd.jupyter.widget-view+json": {
       "model_id": "089c56292a4e43fdabb54e7a1c59fb98",
       "version_major": 2,
       "version_minor": 0
      },
      "text/plain": [
       "interactive(children=(IntSlider(value=0, description='dis_in', max=40000), Output()), _dom_classes=('widget-in…"
      ]
     },
     "metadata": {},
     "output_type": "display_data"
    }
   ],
   "source": [
    "@interact(dis_in=(0, 40000))\n",
    "def hist(dis_in=0):\n",
    "    plt.title(\"Histogram of accuracies during learning for P : A\")\n",
    "    plt.xlabel(\"Accuracy\")\n",
    "    plt.xlim((0,1))\n",
    "    plt.hist(np.array(pta_doublel_sv[1][0][:,dis_in]), bins=10)\n",
    "    plt.show()"
   ]
  },
  {
   "cell_type": "code",
   "execution_count": null,
   "id": "37b97ba4-1638-4dcd-bb53-c17cbbb8c291",
   "metadata": {},
   "outputs": [],
   "source": []
  }
 ],
 "metadata": {
  "kernelspec": {
   "display_name": "Python [conda env:tf2-sound]",
   "language": "python",
   "name": "conda-env-tf2-sound-py"
  },
  "language_info": {
   "codemirror_mode": {
    "name": "ipython",
    "version": 3
   },
   "file_extension": ".py",
   "mimetype": "text/x-python",
   "name": "python",
   "nbconvert_exporter": "python",
   "pygments_lexer": "ipython3",
   "version": "3.9.7"
  }
 },
 "nbformat": 4,
 "nbformat_minor": 5
}
