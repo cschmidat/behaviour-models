{
 "cells": [
  {
   "cell_type": "code",
   "execution_count": 1,
   "id": "21fc76a7-c473-4d4b-9c1d-db9e4d3bb9a9",
   "metadata": {},
   "outputs": [],
   "source": [
    "%load_ext lab_black"
   ]
  },
  {
   "cell_type": "markdown",
   "id": "050875fd-93c3-4d60-9403-51275da98780",
   "metadata": {},
   "source": [
    "Imports"
   ]
  },
  {
   "cell_type": "code",
   "execution_count": 1,
   "id": "39ee0270-ff94-41f2-b295-c98eb21daafc",
   "metadata": {
    "execution": {
     "iopub.execute_input": "2022-08-31T21:53:36.744762Z",
     "iopub.status.busy": "2022-08-31T21:53:36.744573Z",
     "iopub.status.idle": "2022-08-31T21:53:38.968088Z",
     "shell.execute_reply": "2022-08-31T21:53:38.967261Z",
     "shell.execute_reply.started": "2022-08-31T21:53:36.744738Z"
    },
    "tags": []
   },
   "outputs": [],
   "source": [
    "# Display\n",
    "%matplotlib inline\n",
    "import matplotlib.pyplot as plt\n",
    "from IPython.display import HTML\n",
    "from ipywidgets import interact\n",
    "from tqdm import tqdm, trange\n",
    "\n",
    "# Numerics\n",
    "import numpy as np\n",
    "import jax\n",
    "import jax.numpy as jnp\n",
    "\n",
    "# Functional\n",
    "from typing import List, Callable\n",
    "from functools import partial\n",
    "\n",
    "# Own\n",
    "from data_gen_x import gen_data_x\n",
    "from models import *"
   ]
  },
  {
   "cell_type": "markdown",
   "id": "a247f204-48bc-4f02-9320-1aa658ed3e8c",
   "metadata": {},
   "source": [
    "# Analysis for Sound Discrimination Models"
   ]
  },
  {
   "cell_type": "markdown",
   "id": "66fd94e4-5f24-4310-8b7d-338ca440c976",
   "metadata": {},
   "source": [
    "Idea: In the `models` module, we have two Models , `OneLayer` and `TwoLayer`, with a training method `run_scheme`.\n",
    "\n",
    "This method can run different versions of active and passive training iterations, specified by the argument `active_cond`. This should be a function mapping an index `i` to the Boolean `True` if iteration `i` is active and `False` if it is passive. The module `models` contains the functions `an_cond`, `ap_cond` and `pta_cond` for our convenience.\n",
    "\n",
    "During training, the model's validation accuracies and psychometric curves are stored in its `metric` attribute. If we set the `debug` parameter to `True`, this attribute also records all weights and hidden activities during training (caution: this is very memory-intensive).\n",
    "\n",
    "With `jax.vmap`, we can run several sessions with different random seeds in parallel on the GPU."
   ]
  },
  {
   "cell_type": "code",
   "execution_count": 2,
   "id": "9c3e639d-fce9-4c58-a7a3-9cfa0ffaf086",
   "metadata": {
    "execution": {
     "iopub.execute_input": "2022-08-31T21:53:38.970292Z",
     "iopub.status.busy": "2022-08-31T21:53:38.970056Z",
     "iopub.status.idle": "2022-08-31T21:53:38.979164Z",
     "shell.execute_reply": "2022-08-31T21:53:38.978619Z",
     "shell.execute_reply.started": "2022-08-31T21:53:38.970262Z"
    },
    "tags": []
   },
   "outputs": [],
   "source": [
    "def simulation(\n",
    "    seed: int,\n",
    "    num_it: int = 2000,\n",
    "    cond: Callable = an_cond,\n",
    "    lr_sgd: float = 1e-2,\n",
    "    lr_hebb: float = 4e-3,\n",
    "):\n",
    "    \"\"\"\n",
    "    Prepare test and validation data and run simulation.\n",
    "    :param seed: Random PRNG seed\n",
    "    :param num_it: Number of iterations to run\n",
    "    :param cond: Function specifying if iteration i is an active or only passive trial.\n",
    "    :param lr_sgd: SGD learning rate for v\n",
    "    :param lr_hebb: Hebbian learning rate for v\n",
    "    \"\"\"\n",
    "    jax_key = jax.random.PRNGKey(seed)\n",
    "\n",
    "    # Prepare means of point clouds\n",
    "    data_means = parclass_wv().means * jax.random.uniform(jax_key, minval=0.5)\n",
    "\n",
    "    X_train, y_train, _ = gen_data_x(\n",
    "        jax_key, 1000, 20, 2, parclass_wv().sigs, data_means, vec=True\n",
    "    )\n",
    "\n",
    "    jax_key, subkey1, subkey2 = jax.random.split(jax_key, 3)\n",
    "    X_val, y_val, _ = gen_data_x(\n",
    "        subkey1, 1000, 20, 2, parclass_wv().sigs, data_means, vec=True\n",
    "    )\n",
    "\n",
    "    sim_pars = parclass_v(\n",
    "        lr_sgd_v=lr_sgd, lr_hebb_v=lr_hebb, lam_sgd_v=1e-3, lam_hebb_v=2e-1\n",
    "    )\n",
    "    sim_pars.means = data_means\n",
    "\n",
    "    test_single = OneLayer(subkey2, pars=sim_pars)\n",
    "    test_single.run_scheme(cond, X_train, y_train, X_val, y_val, num_it)\n",
    "    return test_single.metrics"
   ]
  },
  {
   "cell_type": "code",
   "execution_count": 3,
   "id": "811d88c4-2069-4f72-bf54-de1910fceab0",
   "metadata": {
    "execution": {
     "iopub.execute_input": "2022-08-31T21:53:38.988509Z",
     "iopub.status.busy": "2022-08-31T21:53:38.987912Z",
     "iopub.status.idle": "2022-08-31T21:53:39.000077Z",
     "shell.execute_reply": "2022-08-31T21:53:38.999177Z",
     "shell.execute_reply.started": "2022-08-31T21:53:38.988461Z"
    },
    "tags": []
   },
   "outputs": [],
   "source": [
    "def simulation_double(\n",
    "    seed: int,\n",
    "    num_it: int = 2000,\n",
    "    cond: Callable = an_cond,\n",
    "    lr_sgd_v: float = 0,\n",
    "    lr_hebb_v: float = 1e-4,\n",
    "    lr_sgd_w: float = 1e-3,\n",
    "    lr_fsm_w: float = 2e-3,\n",
    "    hebb_w: bool = False,\n",
    "):\n",
    "    \"\"\"\n",
    "    Prepare test and validation data and run simulation.\n",
    "    :param seed: Random PRNG seed\n",
    "    :param num_it: Number of iterations to run\n",
    "    :param cond: Function specifying if iteration i is an active or only passive trial.\n",
    "    :param lr_sgd_v: SGD learning rate for v\n",
    "    :param lr_hebb_v: Hebbian learning rate for v\n",
    "    :param lr_sgd_w: SGD learning rate for W\n",
    "    :param lr_fsm_w: FSM/Hebbian learning rate for W\n",
    "    :param hebb_w: If True, use Hebbian learning for W, otherwise FSM\n",
    "    \"\"\"\n",
    "    jax_key = jax.random.PRNGKey(seed)\n",
    "\n",
    "    # Prepare means of point clouds\n",
    "    data_means = parclass_wv().means * jax.random.uniform(jax_key, minval=0.3)\n",
    "\n",
    "    X_train, y_train, _ = gen_data_x(\n",
    "        jax_key, 1000, 20, 2, parclass_wv().sigs, data_means, vec=True\n",
    "    )\n",
    "    jax_key, subkey1, subkey2 = jax.random.split(jax_key, 3)\n",
    "    X_val, y_val, _ = gen_data_x(\n",
    "        subkey1, 1000, 20, 2, parclass_wv().sigs, data_means, vec=True\n",
    "    )\n",
    "\n",
    "    sim_pars = parclass_wv(\n",
    "        lam_fsm_w=1,\n",
    "        lam_sgd_w=1e-3,\n",
    "        lam_hebb_v=1,\n",
    "        lam_sgd_v=5e-2,\n",
    "        lr_hebb_v=lr_hebb_v,\n",
    "        lr_fsm_w=lr_fsm_w,\n",
    "        lr_sgd_w=lr_sgd_w,\n",
    "        lr_sgd_v=lr_sgd_v,\n",
    "        hebb_w=hebb_w,\n",
    "    )\n",
    "    sim_pars.means = data_means\n",
    "\n",
    "    test_double = TwoLayer(subkey2, pars=sim_pars)\n",
    "    test_double.run_scheme(cond, X_train, y_train, X_val, y_val, num_it)\n",
    "    return test_double.metrics"
   ]
  },
  {
   "cell_type": "markdown",
   "id": "0a094911-d72a-4407-a279-cd2d4ed43a01",
   "metadata": {},
   "source": [
    "## One Layer Model"
   ]
  },
  {
   "cell_type": "markdown",
   "id": "0b558211-13c5-4bc3-aa94-31e3ab8e0f71",
   "metadata": {},
   "source": [
    "Run this simulation for random seeds in `range(100)` in parallel for all conditions."
   ]
  },
  {
   "cell_type": "code",
   "execution_count": 4,
   "id": "c8c1662b-ff73-4bca-af53-d49566c012a7",
   "metadata": {
    "execution": {
     "iopub.execute_input": "2022-08-31T21:49:11.097092Z",
     "iopub.status.busy": "2022-08-31T21:49:11.096698Z",
     "iopub.status.idle": "2022-08-31T21:49:22.261934Z",
     "shell.execute_reply": "2022-08-31T21:49:22.261123Z",
     "shell.execute_reply.started": "2022-08-31T21:49:11.097042Z"
    },
    "tags": []
   },
   "outputs": [
    {
     "name": "stdout",
     "output_type": "stream",
     "text": [
      "(4000,)\n"
     ]
    }
   ],
   "source": [
    "an_onel = jax.vmap(lambda seed: simulation(seed, cond=an_cond, num_it=4000))(\n",
    "    jnp.arange(100)\n",
    ")"
   ]
  },
  {
   "cell_type": "code",
   "execution_count": 5,
   "id": "ce8da522-1f9a-4918-8760-7deaa1f5f117",
   "metadata": {
    "execution": {
     "iopub.execute_input": "2022-08-31T21:24:37.898417Z",
     "iopub.status.busy": "2022-08-31T21:24:37.898186Z",
     "iopub.status.idle": "2022-08-31T21:24:50.854230Z",
     "shell.execute_reply": "2022-08-31T21:24:50.853100Z",
     "shell.execute_reply.started": "2022-08-31T21:24:37.898384Z"
    },
    "tags": []
   },
   "outputs": [
    {
     "name": "stdout",
     "output_type": "stream",
     "text": [
      "(40000,)\n"
     ]
    }
   ],
   "source": [
    "ap_onel = jax.vmap(lambda seed: simulation(seed, cond=ap_cond, num_it=40000))(\n",
    "    jnp.arange(100)\n",
    ")"
   ]
  },
  {
   "cell_type": "code",
   "execution_count": 6,
   "id": "ba3dba99-f6a9-401e-a4cc-ae68d6eebac7",
   "metadata": {
    "execution": {
     "iopub.execute_input": "2022-08-31T21:24:50.856504Z",
     "iopub.status.busy": "2022-08-31T21:24:50.856254Z",
     "iopub.status.idle": "2022-08-31T21:25:02.136657Z",
     "shell.execute_reply": "2022-08-31T21:25:02.135701Z",
     "shell.execute_reply.started": "2022-08-31T21:24:50.856468Z"
    },
    "tags": []
   },
   "outputs": [
    {
     "name": "stdout",
     "output_type": "stream",
     "text": [
      "(40000,)\n"
     ]
    }
   ],
   "source": [
    "pta_onel = jax.vmap(lambda seed: simulation(seed, cond=pta_cond, num_it=40000))(\n",
    "    jnp.arange(100)\n",
    ")"
   ]
  },
  {
   "cell_type": "code",
   "execution_count": 7,
   "id": "ccc0d79d-d289-4b0e-8044-f0cdd3fde38f",
   "metadata": {
    "execution": {
     "iopub.execute_input": "2022-08-31T21:25:04.965970Z",
     "iopub.status.busy": "2022-08-31T21:25:04.965576Z",
     "iopub.status.idle": "2022-08-31T21:25:06.410973Z",
     "shell.execute_reply": "2022-08-31T21:25:06.410315Z",
     "shell.execute_reply.started": "2022-08-31T21:25:04.965920Z"
    },
    "tags": []
   },
   "outputs": [
    {
     "data": {
      "image/png": "[encoded data removed]",
      "text/plain": [
       "<Figure size 432x288 with 1 Axes>"
      ]
     },
     "metadata": {
      "needs_background": "light"
     },
     "output_type": "display_data"
    }
   ],
   "source": [
    "to_draw = [\n",
    "    [an_onel[1][0], \"A only\", \"blue\"],\n",
    "    [ap_onel[1][0][:, ::10], \"A + P\", \"green\"],\n",
    "    [pta_onel[1][0][:, -4000:], \"A : P\", \"red\"],\n",
    "]\n",
    "for data, label, color in to_draw:\n",
    "    data_mean = data.mean(axis=0)\n",
    "    data_std = data.std(axis=0)\n",
    "    plt.plot(data_mean, label=label, color=color)\n",
    "    plt.fill_between(\n",
    "        np.arange(len(data_mean)),\n",
    "        data_mean - data_std,\n",
    "        data_mean + data_std,\n",
    "        alpha=0.2,\n",
    "        color=color,\n",
    "    )\n",
    "plt.legend()\n",
    "plt.title(\"One Layer Network\")\n",
    "plt.xlabel(\"iteration\")\n",
    "plt.ylabel(\"accuracy\")\n",
    "plt.show()"
   ]
  },
  {
   "cell_type": "code",
   "execution_count": 25,
   "id": "57085de4-698f-41e0-8ca8-556ae10d431d",
   "metadata": {
    "execution": {
     "iopub.execute_input": "2022-08-29T22:44:29.149724Z",
     "iopub.status.busy": "2022-08-29T22:44:29.149430Z",
     "iopub.status.idle": "2022-08-29T22:44:29.523908Z",
     "shell.execute_reply": "2022-08-29T22:44:29.522888Z",
     "shell.execute_reply.started": "2022-08-29T22:44:29.149676Z"
    },
    "tags": []
   },
   "outputs": [
    {
     "data": {
      "application/vnd.jupyter.widget-view+json": {
       "model_id": "5142644e50304e32998b11a3801d0ce8",
       "version_major": 2,
       "version_minor": 0
      },
      "text/plain": [
       "interactive(children=(IntSlider(value=0, description='dis_in', max=40000), Dropdown(description='data', option…"
      ]
     },
     "metadata": {},
     "output_type": "display_data"
    }
   ],
   "source": [
    "@interact(dis_in=(0, 40000), data=[\"A only\", \"A + P\", \"A : P\"])\n",
    "def hist(dis_in=0, data=\"A only\"):\n",
    "    data_dict = {\"A only\": an_onel, \"A + P\": ap_onel, \"A : P\": pta_onel}\n",
    "    plt.title(\"Histogram of accuracies during learning for \" + data)\n",
    "    plt.xlabel(\"Accuracy\")\n",
    "    plt.xlim((0, 1))\n",
    "    plt.hist(np.array(data_dict[data][1][0][:, dis_in]), bins=10)\n",
    "    plt.show()"
   ]
  },
  {
   "cell_type": "markdown",
   "id": "2419ce03-df59-4117-9756-7d053984ba75",
   "metadata": {},
   "source": [
    "## Two Layer Model"
   ]
  },
  {
   "cell_type": "markdown",
   "id": "a09bac17",
   "metadata": {},
   "source": [
    "### Supervised v and W"
   ]
  },
  {
   "cell_type": "code",
   "execution_count": 4,
   "id": "62e859f4-f6be-4e2b-b64b-13ec1678042c",
   "metadata": {
    "execution": {
     "iopub.execute_input": "2022-08-31T21:53:41.531249Z",
     "iopub.status.busy": "2022-08-31T21:53:41.530723Z",
     "iopub.status.idle": "2022-08-31T21:53:53.546017Z",
     "shell.execute_reply": "2022-08-31T21:53:53.545082Z",
     "shell.execute_reply.started": "2022-08-31T21:53:41.531198Z"
    },
    "tags": []
   },
   "outputs": [
    {
     "name": "stdout",
     "output_type": "stream",
     "text": [
      "(2000,)\n"
     ]
    }
   ],
   "source": [
    "an_doublel_svw = jax.vmap(lambda x: simulation_double(x, cond=an_cond, num_it=2000, lr_sgd_v=4e-1, lr_hebb_v=1e-4, lr_sgd_w=1e-3, lr_fsm_w=1e-2, hebb_w=True))(jnp.arange(100))"
   ]
  },
  {
   "cell_type": "code",
   "execution_count": 5,
   "id": "afabb8c8-742e-4165-aee0-73ad79179f80",
   "metadata": {
    "execution": {
     "iopub.execute_input": "2022-08-31T21:53:53.590702Z",
     "iopub.status.busy": "2022-08-31T21:53:53.590509Z",
     "iopub.status.idle": "2022-08-31T21:54:14.259303Z",
     "shell.execute_reply": "2022-08-31T21:54:14.257918Z",
     "shell.execute_reply.started": "2022-08-31T21:53:53.590680Z"
    },
    "tags": []
   },
   "outputs": [
    {
     "name": "stdout",
     "output_type": "stream",
     "text": [
      "(20000,)\n"
     ]
    }
   ],
   "source": [
    "ap_doublel_svw = jax.vmap(lambda x: simulation_double(x, cond=ap_cond, num_it=20000, lr_sgd_v=4e-1, lr_hebb_v=1e-4, lr_sgd_w=1e-3, lr_fsm_w=1e-2, hebb_w=True))(jnp.arange(100))"
   ]
  },
  {
   "cell_type": "code",
   "execution_count": 6,
   "id": "fcfdc14e-195f-4a1a-8396-f373e459be4f",
   "metadata": {
    "execution": {
     "iopub.execute_input": "2022-08-31T21:54:14.262688Z",
     "iopub.status.busy": "2022-08-31T21:54:14.262355Z",
     "iopub.status.idle": "2022-08-31T21:54:33.427095Z",
     "shell.execute_reply": "2022-08-31T21:54:33.425972Z",
     "shell.execute_reply.started": "2022-08-31T21:54:14.262648Z"
    },
    "tags": []
   },
   "outputs": [
    {
     "name": "stdout",
     "output_type": "stream",
     "text": [
      "(20000,)\n"
     ]
    }
   ],
   "source": [
    "pta_doublel_svw = jax.vmap(lambda x: simulation_double(x, cond=pta_cond, num_it=20000, lr_sgd_v=4e-1, lr_hebb_v=1e-4, lr_sgd_w=1e-3, lr_fsm_w=1e-2, hebb_w=True))(jnp.arange(100))"
   ]
  },
  {
   "cell_type": "code",
   "execution_count": 7,
   "id": "5235c8a6-d5d2-4bbe-8d03-a9128761499e",
   "metadata": {
    "execution": {
     "iopub.execute_input": "2022-08-31T21:54:33.429016Z",
     "iopub.status.busy": "2022-08-31T21:54:33.428793Z",
     "iopub.status.idle": "2022-08-31T21:54:34.775901Z",
     "shell.execute_reply": "2022-08-31T21:54:34.775265Z",
     "shell.execute_reply.started": "2022-08-31T21:54:33.428991Z"
    },
    "tags": []
   },
   "outputs": [
    {
     "data": {
      "image/png": "[encoded data removed]",
      "text/plain": [
       "<Figure size 432x288 with 1 Axes>"
      ]
     },
     "metadata": {
      "needs_background": "light"
     },
     "output_type": "display_data"
    }
   ],
   "source": [
    "to_draw = [[an_doublel_svw[1][0], \"A only\", \"blue\"], [ap_doublel_svw[1][0][:,::10], \"A + P\", \"green\"], [pta_doublel_svw[1][0][:,-2000:], \"A : P\", \"red\"]]\n",
    "for data, label, color in to_draw:\n",
    "    data_mean = data.mean(axis=0)\n",
    "    data_std = data.std(axis=0)\n",
    "    plt.plot(data_mean, label=label, color=color)\n",
    "    plt.fill_between(np.arange(len(data_mean)), data_mean-data_std, data_mean+data_std, alpha=0.2, color=color)\n",
    "plt.legend()\n",
    "plt.title('Two Layer Network, supervised v & W')\n",
    "plt.xlabel('iteration');\n",
    "plt.ylabel('accuracy');\n",
    "plt.show()"
   ]
  },
  {
   "cell_type": "code",
   "execution_count": 19,
   "id": "26dec9e2-8e72-4e2e-9030-e7c32ed12acd",
   "metadata": {
    "execution": {
     "iopub.execute_input": "2022-08-31T22:00:24.732160Z",
     "iopub.status.busy": "2022-08-31T22:00:24.731881Z",
     "iopub.status.idle": "2022-08-31T22:00:24.913861Z",
     "shell.execute_reply": "2022-08-31T22:00:24.913175Z",
     "shell.execute_reply.started": "2022-08-31T22:00:24.732123Z"
    },
    "tags": []
   },
   "outputs": [
    {
     "data": {
      "application/vnd.jupyter.widget-view+json": {
       "model_id": "b610ec4d0bea40f8b2f04a015fde256c",
       "version_major": 2,
       "version_minor": 0
      },
      "text/plain": [
       "interactive(children=(IntSlider(value=0, description='dis_in', max=2000), Dropdown(description='data', options…"
      ]
     },
     "metadata": {},
     "output_type": "display_data"
    }
   ],
   "source": [
    "@interact(dis_in=(0, 2000), data=['A only', 'A + P', 'P : A'])\n",
    "def hist(dis_in=0, data='A only'):\n",
    "    data_dict = {'A only': an_doublel_svw[1][0],\n",
    "                 'A + P': ap_doublel_svw[1][0][:,::10],\n",
    "                 'P : A': pta_doublel_svw[1][0][:,-2000:]}\n",
    "    plt.title(\"Histogram of accuracies during learning for \" + data)\n",
    "    plt.xlabel(\"Accuracy\")\n",
    "    plt.xlim((0,1))\n",
    "    plt.hist(np.array(data_dict[data][:,dis_in]), bins=10)\n",
    "    plt.show()"
   ]
  },
  {
   "cell_type": "markdown",
   "id": "c8a56063",
   "metadata": {},
   "source": [
    "### Supervised W"
   ]
  },
  {
   "cell_type": "code",
   "execution_count": 31,
   "id": "f69f7cd9-3d3d-48a1-8e4f-ac08b3a693cb",
   "metadata": {
    "execution": {
     "iopub.execute_input": "2022-08-29T22:45:18.739517Z",
     "iopub.status.busy": "2022-08-29T22:45:18.739185Z",
     "iopub.status.idle": "2022-08-29T22:45:24.263956Z",
     "shell.execute_reply": "2022-08-29T22:45:24.262694Z",
     "shell.execute_reply.started": "2022-08-29T22:45:18.739467Z"
    },
    "tags": []
   },
   "outputs": [
    {
     "name": "stdout",
     "output_type": "stream",
     "text": [
      "(4000,)\n"
     ]
    }
   ],
   "source": [
    "an_doublel_sw = jax.vmap(lambda seed: simulation_double(seed, cond=an_cond, num_it=4000, lr_sgd_v=0, lr_hebb_v=1e-4, lr_sgd_w=2e-3, lr_fsm_w=1e-2, hebb_w=True))(jnp.arange(100))"
   ]
  },
  {
   "cell_type": "code",
   "execution_count": 32,
   "id": "0488cfc8-125d-4445-80b3-3200190e0b7f",
   "metadata": {
    "execution": {
     "iopub.execute_input": "2022-08-29T22:45:24.266071Z",
     "iopub.status.busy": "2022-08-29T22:45:24.265724Z",
     "iopub.status.idle": "2022-08-29T22:46:01.009839Z",
     "shell.execute_reply": "2022-08-29T22:46:01.008604Z",
     "shell.execute_reply.started": "2022-08-29T22:45:24.266017Z"
    },
    "tags": []
   },
   "outputs": [
    {
     "name": "stdout",
     "output_type": "stream",
     "text": [
      "(40000,)\n"
     ]
    }
   ],
   "source": [
    "ap_doublel_sw = jax.vmap(lambda seed: simulation_double(seed, cond=ap_cond, num_it=40000, lr_sgd_v=0, lr_hebb_v=1e-4, lr_sgd_w=2e-3, lr_fsm_w=1e-2, hebb_w=True))(jnp.arange(100))"
   ]
  },
  {
   "cell_type": "code",
   "execution_count": 33,
   "id": "3c744c2c-6b96-4a8e-88bb-98495e71b8a2",
   "metadata": {
    "execution": {
     "iopub.execute_input": "2022-08-29T22:46:01.012595Z",
     "iopub.status.busy": "2022-08-29T22:46:01.012237Z",
     "iopub.status.idle": "2022-08-29T22:46:38.194407Z",
     "shell.execute_reply": "2022-08-29T22:46:38.193117Z",
     "shell.execute_reply.started": "2022-08-29T22:46:01.012538Z"
    },
    "tags": []
   },
   "outputs": [
    {
     "name": "stdout",
     "output_type": "stream",
     "text": [
      "(40000,)\n"
     ]
    }
   ],
   "source": [
    "pta_doublel_sw = jax.vmap(lambda seed: simulation_double(seed, cond=pta_cond, num_it=40000, lr_sgd_v=0, lr_hebb_v=1e-4, lr_sgd_w=2e-3, lr_fsm_w=1e-2, hebb_w=True))(jnp.arange(100))"
   ]
  },
  {
   "cell_type": "code",
   "execution_count": 34,
   "id": "73e22cd5-b578-4618-b23a-c5b657071844",
   "metadata": {
    "execution": {
     "iopub.execute_input": "2022-08-29T22:46:38.197231Z",
     "iopub.status.busy": "2022-08-29T22:46:38.196880Z",
     "iopub.status.idle": "2022-08-29T22:46:38.650460Z",
     "shell.execute_reply": "2022-08-29T22:46:38.649723Z",
     "shell.execute_reply.started": "2022-08-29T22:46:38.197173Z"
    },
    "tags": []
   },
   "outputs": [
    {
     "data": {
      "image/png": "[encoded data removed]",
      "text/plain": [
       "<Figure size 432x288 with 1 Axes>"
      ]
     },
     "metadata": {
      "needs_background": "light"
     },
     "output_type": "display_data"
    }
   ],
   "source": [
    "to_draw = [[an_doublel_sw[1][0], \"A only\", \"blue\"], [ap_doublel_sw[1][0][:,::10], \"A + P\", \"green\"], [pta_doublel_sw[1][0][:,-4000:], \"A : P\", \"red\"]]\n",
    "for data, label, color in to_draw:\n",
    "    data_mean = data.mean(axis=0)\n",
    "    data_std = data.std(axis=0)\n",
    "    plt.plot(data_mean, label=label, color=color)\n",
    "    plt.fill_between(np.arange(len(data_mean)), data_mean-data_std, data_mean+data_std, alpha=0.2, color=color)\n",
    "plt.legend()\n",
    "plt.title('Two Layer Network, supervised W')\n",
    "plt.xlabel('iteration');\n",
    "plt.ylabel('accuracy');\n",
    "plt.show()"
   ]
  },
  {
   "cell_type": "code",
   "execution_count": 35,
   "id": "68c6be31-5f6f-4907-a443-e5cb05eeaf00",
   "metadata": {
    "execution": {
     "iopub.execute_input": "2022-08-29T22:46:38.652509Z",
     "iopub.status.busy": "2022-08-29T22:46:38.652168Z",
     "iopub.status.idle": "2022-08-29T22:46:38.948944Z",
     "shell.execute_reply": "2022-08-29T22:46:38.948230Z",
     "shell.execute_reply.started": "2022-08-29T22:46:38.652456Z"
    },
    "tags": []
   },
   "outputs": [
    {
     "data": {
      "application/vnd.jupyter.widget-view+json": {
       "model_id": "0954af9294e64ffc83450b77b678af9c",
       "version_major": 2,
       "version_minor": 0
      },
      "text/plain": [
       "interactive(children=(IntSlider(value=0, description='dis_in', max=40000), Dropdown(description='data', option…"
      ]
     },
     "metadata": {},
     "output_type": "display_data"
    }
   ],
   "source": [
    "@interact(dis_in=(0, 40000), data=['A only', 'A + P', 'A : P'])\n",
    "def hist(dis_in=0, data='A only'):\n",
    "    data_dict = {'A only': an_doublel_sw,\n",
    "                 'A + P': ap_doublel_sw,\n",
    "                 'A : P': pta_doublel_sw}\n",
    "    plt.title(\"Histogram of accuracies during learning for \" + data)\n",
    "    plt.xlabel(\"Accuracy\")\n",
    "    plt.xlim((0,1))\n",
    "    plt.hist(np.array(data_dict[data][1][0][:,dis_in]), bins=10)\n",
    "    plt.show()"
   ]
  },
  {
   "cell_type": "code",
   "execution_count": 10,
   "id": "6cb6b694-63e1-428f-8b7b-a3c4db40bcaf",
   "metadata": {
    "execution": {
     "iopub.execute_input": "2022-08-31T21:32:02.561152Z",
     "iopub.status.busy": "2022-08-31T21:32:02.560750Z",
     "iopub.status.idle": "2022-08-31T21:32:02.715356Z",
     "shell.execute_reply": "2022-08-31T21:32:02.714492Z",
     "shell.execute_reply.started": "2022-08-31T21:32:02.561094Z"
    },
    "tags": []
   },
   "outputs": [
    {
     "data": {
      "text/plain": [
       "DeviceArray(2.3025851, dtype=float32, weak_type=True)"
      ]
     },
     "execution_count": 10,
     "metadata": {},
     "output_type": "execute_result"
    }
   ],
   "source": [
    "jnp.log(10)"
   ]
  },
  {
   "cell_type": "code",
   "execution_count": null,
   "id": "157b6d02-4d31-422b-888a-ee783490130f",
   "metadata": {},
   "outputs": [],
   "source": []
  }
 ],
 "metadata": {
  "kernelspec": {
   "display_name": "Python [conda env:tf2-sound]",
   "language": "python",
   "name": "conda-env-tf2-sound-py"
  },
  "language_info": {
   "codemirror_mode": {
    "name": "ipython",
    "version": 3
   },
   "file_extension": ".py",
   "mimetype": "text/x-python",
   "name": "python",
   "nbconvert_exporter": "python",
   "pygments_lexer": "ipython3",
   "version": "3.9.7"
  },
  "vscode": {
   "interpreter": {
    "hash": "25a0630e6df14cd2fcabdc71d88eb6e8272cc672a49b3e430cffdfc46bf193a1"
   }
  }
 },
 "nbformat": 4,
 "nbformat_minor": 5
}
