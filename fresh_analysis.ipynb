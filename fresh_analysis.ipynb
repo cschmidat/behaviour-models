{
 "cells": [
  {
   "cell_type": "markdown",
   "id": "050875fd-93c3-4d60-9403-51275da98780",
   "metadata": {},
   "source": [
    "Imports"
   ]
  },
  {
   "cell_type": "code",
   "execution_count": 1,
   "id": "39ee0270-ff94-41f2-b295-c98eb21daafc",
   "metadata": {},
   "outputs": [],
   "source": [
    "#Display\n",
    "%matplotlib inline\n",
    "import matplotlib.pyplot as plt\n",
    "from IPython.display import HTML\n",
    "from ipywidgets import interact\n",
    "from tqdm import tqdm, trange\n",
    "#Numerics\n",
    "import numpy as np\n",
    "import jax\n",
    "import jax.numpy as jnp\n",
    "#Functional\n",
    "from typing import List, Callable\n",
    "from functools import partial\n",
    "#Own\n",
    "from data_gen import gen_data\n",
    "from data_gen_x import gen_data_x\n",
    "from models import *"
   ]
  },
  {
   "cell_type": "markdown",
   "id": "a247f204-48bc-4f02-9320-1aa658ed3e8c",
   "metadata": {},
   "source": [
    "# Analysis for Sound Discrimination Models"
   ]
  },
  {
   "cell_type": "markdown",
   "id": "66fd94e4-5f24-4310-8b7d-338ca440c976",
   "metadata": {},
   "source": [
    "Idea: In the `models` module, we have two Models , `OneLayer` and `TwoLayer`, with a training method `run_scheme`.\n",
    "\n",
    "This method can run different versions of active and passive training iterations, specified by the argument `active_cond`. This should be a function mapping an index `i` to the Boolean `True` if iteration `i` is active and `False` if it is passive. The module `models` contains the functions `an_cond`, `ap_cond` and `pta_cond` for our convenience.\n",
    "\n",
    "During training, the model's validation accuracies and psychometric curves are stored in its `metric` attribute. If we set the `debug` parameter to `True`, this attribute also records all weights and hidden activities during training (caution: this is very memory-intensive).\n",
    "\n",
    "With `jax.vmap`, we can run several sessions with different random seeds in parallel on the GPU."
   ]
  },
  {
   "cell_type": "code",
   "execution_count": 10,
   "id": "9c3e639d-fce9-4c58-a7a3-9cfa0ffaf086",
   "metadata": {},
   "outputs": [],
   "source": [
    "def simulation(seed: int, num_it: int=2000, cond: Callable=an_cond, lr_sgd: float=1e-2, lr_hebb: float=4e-3):\n",
    "    \"\"\"\n",
    "    Prepare test and validation data and run simulation.\n",
    "    :param seed: Random PRNG seed\n",
    "    :param num_it: Number of iterations to run\n",
    "    :param cond: Function specifying if iteration i is an active or only passive trial.\n",
    "    :param lr_sgd: SGD learning rate for v\n",
    "    :param lr_hebb: Hebbian learning rate for v\n",
    "    \"\"\"\n",
    "    jax_key = jax.random.PRNGKey(seed)\n",
    "    \n",
    "    #Prepare means of point clouds\n",
    "    data_means = parclass_wv().means * jax.random.uniform(jax_key, minval=0.3)\n",
    "    \n",
    "    X_train, y_train, _ = gen_data_x(jax_key, 1000, 20, 2, parclass_wv().sigs, data_means, vec=True)\n",
    "    jax_key, subkey1, subkey2 = jax.random.split(jax_key, 3)\n",
    "    X_val, y_val, _ = gen_data_x(subkey1, 1000, 20, 2, parclass_wv().sigs, data_means, vec=True)\n",
    "    \n",
    "    sim_pars = parclass_v(lr_sgd_v=lr_sgd, lr_hebb_v=lr_hebb, lam_sgd_v=1e-4, lam_hebb_v=2e-1)\n",
    "    sim_pars.means = data_means\n",
    "    \n",
    "    test_single = OneLayer(subkey2, pars = sim_pars)\n",
    "    test_single.run_scheme(cond, X_train, y_train, X_val, y_val, num_it)\n",
    "    return test_single.metrics"
   ]
  },
  {
   "cell_type": "code",
   "execution_count": 11,
   "id": "811d88c4-2069-4f72-bf54-de1910fceab0",
   "metadata": {},
   "outputs": [],
   "source": [
    "def simulation_double(seed: int, num_it: int=2000, cond: Callable=an_cond, lr_sgd_v: float=0, lr_hebb_v: float=1e-4, lr_sgd_w: float=1e-3, lr_fsm_w: float=2e-3, hebb_w: bool=False):\n",
    "    \"\"\"\n",
    "    Prepare test and validation data and run simulation.\n",
    "    :param seed: Random PRNG seed\n",
    "    :param num_it: Number of iterations to run\n",
    "    :param cond: Function specifying if iteration i is an active or only passive trial.\n",
    "    :param lr_sgd_v: SGD learning rate for v\n",
    "    :param lr_hebb_v: Hebbian learning rate for v\n",
    "    :param lr_sgd_w: SGD learning rate for W\n",
    "    :param lr_fsm_w: FSM/Hebbian learning rate for W\n",
    "    :param hebb_w: If True, use Hebbian learning for W, otherwise FSM\n",
    "    \"\"\"\n",
    "    jax_key = jax.random.PRNGKey(seed)\n",
    "    \n",
    "    #Prepare means of point clouds\n",
    "    data_means = parclass_wv().means * jax.random.uniform(jax_key, minval=0.3)\n",
    "    \n",
    "    X_train, y_train, _ = gen_data_x(jax_key, 1000, 20, 2, parclass_wv().sigs, data_means, vec=True)\n",
    "    jax_key, subkey1, subkey2 = jax.random.split(jax_key, 3)\n",
    "    X_val, y_val, _ = gen_data_x(subkey1, 1000, 20, 2, parclass_wv().sigs, data_means, vec=True)\n",
    "    \n",
    "    sim_pars = parclass_wv(lam_fsm_w=0, lam_sgd_w=1e-3, lam_hebb_v=4e-1, lam_sgd_v=5e-2, lr_hebb_v=lr_hebb_v, lr_fsm_w=lr_fsm_w, lr_sgd_w=lr_sgd_w, lr_sgd_v=lr_sgd_v, hebb_w=hebb_w)\n",
    "    sim_pars.means = data_means\n",
    "    \n",
    "    test_double = TwoLayer(subkey2, pars=sim_pars)\n",
    "    test_double.run_scheme(cond, X_train, y_train, X_val, y_val, num_it)\n",
    "    return test_double.metrics"
   ]
  },
  {
   "cell_type": "markdown",
   "id": "0a094911-d72a-4407-a279-cd2d4ed43a01",
   "metadata": {},
   "source": [
    "## One Layer Model"
   ]
  },
  {
   "cell_type": "markdown",
   "id": "0b558211-13c5-4bc3-aa94-31e3ab8e0f71",
   "metadata": {},
   "source": [
    "Run this simulation for random seeds in `range(100)` in parallel for all conditions."
   ]
  },
  {
   "cell_type": "code",
   "execution_count": 12,
   "id": "c8c1662b-ff73-4bca-af53-d49566c012a7",
   "metadata": {},
   "outputs": [
    {
     "name": "stdout",
     "output_type": "stream",
     "text": [
      "(4000,)\n"
     ]
    }
   ],
   "source": [
    "an_onel = jax.vmap(lambda seed: simulation(seed, cond=an_cond, num_it=4000))(jnp.arange(100))"
   ]
  },
  {
   "cell_type": "code",
   "execution_count": 13,
   "id": "ce8da522-1f9a-4918-8760-7deaa1f5f117",
   "metadata": {},
   "outputs": [
    {
     "name": "stdout",
     "output_type": "stream",
     "text": [
      "(40000,)\n"
     ]
    }
   ],
   "source": [
    "ap_onel = jax.vmap(lambda seed: simulation(seed, cond=ap_cond, num_it=40000))(jnp.arange(100))"
   ]
  },
  {
   "cell_type": "code",
   "execution_count": 17,
   "id": "ba3dba99-f6a9-401e-a4cc-ae68d6eebac7",
   "metadata": {},
   "outputs": [
    {
     "name": "stdout",
     "output_type": "stream",
     "text": [
      "(40000,)\n"
     ]
    }
   ],
   "source": [
    "pta_onel = jax.vmap(lambda seed: simulation(seed, cond=pta_cond, num_it=40000))(jnp.arange(100))"
   ]
  },
  {
   "cell_type": "code",
   "execution_count": 15,
   "id": "ccc0d79d-d289-4b0e-8044-f0cdd3fde38f",
   "metadata": {},
   "outputs": [
    {
     "data": {
      "image/png": "[encoded data removed]",
      "text/plain": [
       "<Figure size 432x288 with 1 Axes>"
      ]
     },
     "metadata": {
      "needs_background": "light"
     },
     "output_type": "display_data"
    }
   ],
   "source": [
    "to_draw = [[an_onel[1][0], \"A only\", \"blue\"], [ap_onel[1][0][:,::10], \"A + P\", \"green\"], [pta_onel[1][0][:,-4000:], \"A : P\", \"red\"]]\n",
    "for data, label, color in to_draw:\n",
    "    data_mean = data.mean(axis=0)\n",
    "    data_std = data.std(axis=0)\n",
    "    plt.plot(data_mean, label=label, color=color)\n",
    "    plt.fill_between(np.arange(len(data_mean)), data_mean-data_std, data_mean+data_std, alpha=0.2, color=color)\n",
    "plt.legend()\n",
    "plt.title('One Layer Network')\n",
    "plt.xlabel('iteration');\n",
    "plt.ylabel('accuracy');\n",
    "plt.show()"
   ]
  },
  {
   "cell_type": "markdown",
   "id": "2419ce03-df59-4117-9756-7d053984ba75",
   "metadata": {},
   "source": [
    "## Two Layer Model"
   ]
  },
  {
   "cell_type": "code",
   "execution_count": 7,
   "id": "f69f7cd9-3d3d-48a1-8e4f-ac08b3a693cb",
   "metadata": {},
   "outputs": [
    {
     "name": "stdout",
     "output_type": "stream",
     "text": [
      "(4000,)\n"
     ]
    }
   ],
   "source": [
    "an_doublel_sw = jax.vmap(lambda seed: simulation_double(seed, cond=an_cond, num_it=4000, lr_sgd_v=0, lr_hebb_v=5e-4, lr_sgd_w=5e-2, lr_fsm_w=4e-3, hebb_w=True))(jnp.arange(100))"
   ]
  },
  {
   "cell_type": "code",
   "execution_count": 5,
   "id": "0488cfc8-125d-4445-80b3-3200190e0b7f",
   "metadata": {},
   "outputs": [
    {
     "name": "stdout",
     "output_type": "stream",
     "text": [
      "(40000,)\n"
     ]
    }
   ],
   "source": [
    "ap_doublel_sw = jax.vmap(lambda seed: simulation_double(seed, cond=ap_cond, num_it=40000, lr_sgd_v=0, lr_hebb_v=5e-4, lr_sgd_w=5e-2, lr_fsm_w=4e-3, hebb_w=True))(jnp.arange(100))"
   ]
  },
  {
   "cell_type": "code",
   "execution_count": 6,
   "id": "3c744c2c-6b96-4a8e-88bb-98495e71b8a2",
   "metadata": {},
   "outputs": [
    {
     "name": "stdout",
     "output_type": "stream",
     "text": [
      "(40000,)\n"
     ]
    }
   ],
   "source": [
    "pta_doublel_sw = jax.vmap(lambda seed: simulation_double(seed, cond=pta_cond, num_it=40000, lr_sgd_v=0, lr_hebb_v=5e-4, lr_sgd_w=5e-2, lr_fsm_w=4e-3, hebb_w=True))(jnp.arange(100))"
   ]
  },
  {
   "cell_type": "code",
   "execution_count": 8,
   "id": "73e22cd5-b578-4618-b23a-c5b657071844",
   "metadata": {},
   "outputs": [
    {
     "data": {
      "text/plain": [
       "[<matplotlib.lines.Line2D at 0x7fd02c63c820>]"
      ]
     },
     "execution_count": 8,
     "metadata": {},
     "output_type": "execute_result"
    },
    {
     "data": {
      "image/png": "[encoded data removed]",
      "text/plain": [
       "<Figure size 432x288 with 1 Axes>"
      ]
     },
     "metadata": {
      "needs_background": "light"
     },
     "output_type": "display_data"
    }
   ],
   "source": [
    "plt.plot(an_doublel_sw[1][0][np.where(an_doublel_sw[1][0][:,0]<0.5)].mean(axis=0))"
   ]
  },
  {
   "cell_type": "code",
   "execution_count": null,
   "id": "68c6be31-5f6f-4907-a443-e5cb05eeaf00",
   "metadata": {},
   "outputs": [],
   "source": []
  }
 ],
 "metadata": {
  "kernelspec": {
   "display_name": "Python [conda env:jara-test]",
   "language": "python",
   "name": "conda-env-jara-test-py"
  },
  "language_info": {
   "codemirror_mode": {
    "name": "ipython",
    "version": 3
   },
   "file_extension": ".py",
   "mimetype": "text/x-python",
   "name": "python",
   "nbconvert_exporter": "python",
   "pygments_lexer": "ipython3",
   "version": "3.10.4"
  }
 },
 "nbformat": 4,
 "nbformat_minor": 5
}
